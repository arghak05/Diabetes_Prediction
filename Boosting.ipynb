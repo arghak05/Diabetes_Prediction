{
 "cells": [
  {
   "cell_type": "markdown",
   "metadata": {},
   "source": [
    "### Python Implementation"
   ]
  },
  {
   "cell_type": "markdown",
   "metadata": {},
   "source": [
    "**Problem Statement**:\n",
    "The Pima Indians Diabetes Dataset involves predicting the onset of diabetes within 5 years in Pima Indians given medical details.\n",
    "It is a binary (2-class) classification problem. The number of observations for each class is not balanced. There are 768 observations with 8 input variables and 1 output variable. Missing values are believed to be encoded with zero values. The variable names are as follows:\n",
    "1.\tNumber of times pregnant.\n",
    "2.\tPlasma glucose concentration 2 hours in an oral glucose tolerance test.\n",
    "3.\tDiastolic blood pressure (mm Hg).\n",
    "4.\tTriceps skinfold thickness (mm).\n",
    "5.\t2-Hour serum insulin (mu U/ml).\n",
    "6.\tBody mass index (weight in kg/(height in m)^2).\n",
    "7.\tDiabetes pedigree function.\n",
    "8.\tAge (years).\n",
    "9.\tIs Diabetic (0 or 1)."
   ]
  },
  {
   "cell_type": "code",
   "execution_count": 2,
   "metadata": {},
   "outputs": [],
   "source": [
    "import pandas as pd\n",
    "import numpy as np\n",
    "import xgboost as xgb\n",
    "import pickle\n",
    "from sklearn import datasets\n",
    "from xgboost import XGBClassifier\n",
    "from sklearn.metrics import accuracy_score"
   ]
  },
  {
   "cell_type": "code",
   "execution_count": 3,
   "metadata": {},
   "outputs": [],
   "source": [
    "# reading the features and the labels\n",
    "data= pd.read_csv('pima-indians-diabetes.csv')"
   ]
  },
  {
   "cell_type": "code",
   "execution_count": 4,
   "metadata": {},
   "outputs": [
    {
     "data": {
      "text/html": [
       "<div>\n",
       "<style scoped>\n",
       "    .dataframe tbody tr th:only-of-type {\n",
       "        vertical-align: middle;\n",
       "    }\n",
       "\n",
       "    .dataframe tbody tr th {\n",
       "        vertical-align: top;\n",
       "    }\n",
       "\n",
       "    .dataframe thead th {\n",
       "        text-align: right;\n",
       "    }\n",
       "</style>\n",
       "<table border=\"1\" class=\"dataframe\">\n",
       "  <thead>\n",
       "    <tr style=\"text-align: right;\">\n",
       "      <th></th>\n",
       "      <th>Number of times pregnant</th>\n",
       "      <th>Plasma glucose concentration</th>\n",
       "      <th>Diastolic blood pressure (mm Hg)</th>\n",
       "      <th>Triceps skinfold thickness (mm)</th>\n",
       "      <th>2-Hour serum insulin (mu U/ml)</th>\n",
       "      <th>Body mass index (weight in kg/(height in m)^2)</th>\n",
       "      <th>Diabetes pedigree function</th>\n",
       "      <th>Age</th>\n",
       "      <th>Is Diabetic</th>\n",
       "    </tr>\n",
       "  </thead>\n",
       "  <tbody>\n",
       "    <tr>\n",
       "      <th>0</th>\n",
       "      <td>6</td>\n",
       "      <td>148</td>\n",
       "      <td>72</td>\n",
       "      <td>35</td>\n",
       "      <td>0</td>\n",
       "      <td>33.6</td>\n",
       "      <td>0.627</td>\n",
       "      <td>50</td>\n",
       "      <td>1</td>\n",
       "    </tr>\n",
       "    <tr>\n",
       "      <th>1</th>\n",
       "      <td>1</td>\n",
       "      <td>85</td>\n",
       "      <td>66</td>\n",
       "      <td>29</td>\n",
       "      <td>0</td>\n",
       "      <td>26.6</td>\n",
       "      <td>0.351</td>\n",
       "      <td>31</td>\n",
       "      <td>0</td>\n",
       "    </tr>\n",
       "    <tr>\n",
       "      <th>2</th>\n",
       "      <td>8</td>\n",
       "      <td>183</td>\n",
       "      <td>64</td>\n",
       "      <td>0</td>\n",
       "      <td>0</td>\n",
       "      <td>23.3</td>\n",
       "      <td>0.672</td>\n",
       "      <td>32</td>\n",
       "      <td>1</td>\n",
       "    </tr>\n",
       "    <tr>\n",
       "      <th>3</th>\n",
       "      <td>1</td>\n",
       "      <td>89</td>\n",
       "      <td>66</td>\n",
       "      <td>23</td>\n",
       "      <td>94</td>\n",
       "      <td>28.1</td>\n",
       "      <td>0.167</td>\n",
       "      <td>21</td>\n",
       "      <td>0</td>\n",
       "    </tr>\n",
       "    <tr>\n",
       "      <th>4</th>\n",
       "      <td>0</td>\n",
       "      <td>137</td>\n",
       "      <td>40</td>\n",
       "      <td>35</td>\n",
       "      <td>168</td>\n",
       "      <td>43.1</td>\n",
       "      <td>2.288</td>\n",
       "      <td>33</td>\n",
       "      <td>1</td>\n",
       "    </tr>\n",
       "  </tbody>\n",
       "</table>\n",
       "</div>"
      ],
      "text/plain": [
       "   Number of times pregnant  Plasma glucose concentration  \\\n",
       "0                         6                           148   \n",
       "1                         1                            85   \n",
       "2                         8                           183   \n",
       "3                         1                            89   \n",
       "4                         0                           137   \n",
       "\n",
       "   Diastolic blood pressure (mm Hg)  Triceps skinfold thickness (mm)  \\\n",
       "0                                72                               35   \n",
       "1                                66                               29   \n",
       "2                                64                                0   \n",
       "3                                66                               23   \n",
       "4                                40                               35   \n",
       "\n",
       "   2-Hour serum insulin (mu U/ml)  \\\n",
       "0                               0   \n",
       "1                               0   \n",
       "2                               0   \n",
       "3                              94   \n",
       "4                             168   \n",
       "\n",
       "   Body mass index (weight in kg/(height in m)^2)  Diabetes pedigree function  \\\n",
       "0                                            33.6                       0.627   \n",
       "1                                            26.6                       0.351   \n",
       "2                                            23.3                       0.672   \n",
       "3                                            28.1                       0.167   \n",
       "4                                            43.1                       2.288   \n",
       "\n",
       "   Age  Is Diabetic  \n",
       "0   50            1  \n",
       "1   31            0  \n",
       "2   32            1  \n",
       "3   21            0  \n",
       "4   33            1  "
      ]
     },
     "execution_count": 4,
     "metadata": {},
     "output_type": "execute_result"
    }
   ],
   "source": [
    "data.head()"
   ]
  },
  {
   "cell_type": "code",
   "execution_count": 5,
   "metadata": {},
   "outputs": [
    {
     "data": {
      "text/plain": [
       "Index(['Number of times pregnant', 'Plasma glucose concentration',\n",
       "       'Diastolic blood pressure (mm Hg)', 'Triceps skinfold thickness (mm)',\n",
       "       '2-Hour serum insulin (mu U/ml)',\n",
       "       'Body mass index (weight in kg/(height in m)^2)',\n",
       "       'Diabetes pedigree function', 'Age', 'Is Diabetic'],\n",
       "      dtype='object')"
      ]
     },
     "execution_count": 5,
     "metadata": {},
     "output_type": "execute_result"
    }
   ],
   "source": [
    "data.columns"
   ]
  },
  {
   "cell_type": "code",
   "execution_count": 6,
   "metadata": {},
   "outputs": [],
   "source": [
    "cols = ['Plasma glucose concentration',\n",
    "       'Diastolic blood pressure (mm Hg)', 'Triceps skinfold thickness (mm)',\n",
    "       '2-Hour serum insulin (mu U/ml)',\n",
    "       'Body mass index (weight in kg/(height in m)^2)',\n",
    "       'Diabetes pedigree function', 'Age']"
   ]
  },
  {
   "cell_type": "code",
   "execution_count": 7,
   "metadata": {},
   "outputs": [],
   "source": [
    "# as mentioned in the data description, the missing values have been replaced by zeroes. So, we are replacing zeroes with nan\n",
    "for col in cols:\n",
    "    data[col]=data[col].replace(0, np.nan)"
   ]
  },
  {
   "cell_type": "code",
   "execution_count": 8,
   "metadata": {},
   "outputs": [
    {
     "data": {
      "text/plain": [
       "Number of times pregnant                            0\n",
       "Plasma glucose concentration                        5\n",
       "Diastolic blood pressure (mm Hg)                   35\n",
       "Triceps skinfold thickness (mm)                   227\n",
       "2-Hour serum insulin (mu U/ml)                    374\n",
       "Body mass index (weight in kg/(height in m)^2)     11\n",
       "Diabetes pedigree function                          0\n",
       "Age                                                 0\n",
       "Is Diabetic                                         0\n",
       "dtype: int64"
      ]
     },
     "execution_count": 8,
     "metadata": {},
     "output_type": "execute_result"
    }
   ],
   "source": [
    "# checking for missing values\n",
    "data.isna().sum()"
   ]
  },
  {
   "cell_type": "code",
   "execution_count": 9,
   "metadata": {},
   "outputs": [],
   "source": [
    "# imputing the missing values\n",
    "data['Plasma glucose concentration']=data['Plasma glucose concentration'].fillna(data['Plasma glucose concentration'].mode()[0])\n",
    "data['Diastolic blood pressure (mm Hg)']=data['Diastolic blood pressure (mm Hg)'].fillna(data['Diastolic blood pressure (mm Hg)'].mode()[0])\n",
    "data['Triceps skinfold thickness (mm)']=data['Triceps skinfold thickness (mm)'].fillna(data['Triceps skinfold thickness (mm)'].mean())\n",
    "data['2-Hour serum insulin (mu U/ml)']=data['2-Hour serum insulin (mu U/ml)'].fillna(data['2-Hour serum insulin (mu U/ml)'].mean())\n",
    "data['Body mass index (weight in kg/(height in m)^2)']=data['Body mass index (weight in kg/(height in m)^2)'].fillna(data['Body mass index (weight in kg/(height in m)^2)'].mean())\n"
   ]
  },
  {
   "cell_type": "code",
   "execution_count": 10,
   "metadata": {},
   "outputs": [
    {
     "data": {
      "text/plain": [
       "Number of times pregnant                          0\n",
       "Plasma glucose concentration                      0\n",
       "Diastolic blood pressure (mm Hg)                  0\n",
       "Triceps skinfold thickness (mm)                   0\n",
       "2-Hour serum insulin (mu U/ml)                    0\n",
       "Body mass index (weight in kg/(height in m)^2)    0\n",
       "Diabetes pedigree function                        0\n",
       "Age                                               0\n",
       "Is Diabetic                                       0\n",
       "dtype: int64"
      ]
     },
     "execution_count": 10,
     "metadata": {},
     "output_type": "execute_result"
    }
   ],
   "source": [
    "# checking for missing values after imputation\n",
    "data.isna().sum()"
   ]
  },
  {
   "cell_type": "code",
   "execution_count": 11,
   "metadata": {},
   "outputs": [],
   "source": [
    "#Separating the feature and the Label columns \n",
    "x=data.drop(labels='Is Diabetic', axis=1)\n",
    "y= data['Is Diabetic']"
   ]
  },
  {
   "cell_type": "code",
   "execution_count": 12,
   "metadata": {},
   "outputs": [
    {
     "data": {
      "text/html": [
       "<div>\n",
       "<style scoped>\n",
       "    .dataframe tbody tr th:only-of-type {\n",
       "        vertical-align: middle;\n",
       "    }\n",
       "\n",
       "    .dataframe tbody tr th {\n",
       "        vertical-align: top;\n",
       "    }\n",
       "\n",
       "    .dataframe thead th {\n",
       "        text-align: right;\n",
       "    }\n",
       "</style>\n",
       "<table border=\"1\" class=\"dataframe\">\n",
       "  <thead>\n",
       "    <tr style=\"text-align: right;\">\n",
       "      <th></th>\n",
       "      <th>Number of times pregnant</th>\n",
       "      <th>Plasma glucose concentration</th>\n",
       "      <th>Diastolic blood pressure (mm Hg)</th>\n",
       "      <th>Triceps skinfold thickness (mm)</th>\n",
       "      <th>2-Hour serum insulin (mu U/ml)</th>\n",
       "      <th>Body mass index (weight in kg/(height in m)^2)</th>\n",
       "      <th>Diabetes pedigree function</th>\n",
       "      <th>Age</th>\n",
       "    </tr>\n",
       "  </thead>\n",
       "  <tbody>\n",
       "    <tr>\n",
       "      <th>0</th>\n",
       "      <td>6</td>\n",
       "      <td>148.0</td>\n",
       "      <td>72.0</td>\n",
       "      <td>35.00000</td>\n",
       "      <td>155.548223</td>\n",
       "      <td>33.6</td>\n",
       "      <td>0.627</td>\n",
       "      <td>50</td>\n",
       "    </tr>\n",
       "    <tr>\n",
       "      <th>1</th>\n",
       "      <td>1</td>\n",
       "      <td>85.0</td>\n",
       "      <td>66.0</td>\n",
       "      <td>29.00000</td>\n",
       "      <td>155.548223</td>\n",
       "      <td>26.6</td>\n",
       "      <td>0.351</td>\n",
       "      <td>31</td>\n",
       "    </tr>\n",
       "    <tr>\n",
       "      <th>2</th>\n",
       "      <td>8</td>\n",
       "      <td>183.0</td>\n",
       "      <td>64.0</td>\n",
       "      <td>29.15342</td>\n",
       "      <td>155.548223</td>\n",
       "      <td>23.3</td>\n",
       "      <td>0.672</td>\n",
       "      <td>32</td>\n",
       "    </tr>\n",
       "    <tr>\n",
       "      <th>3</th>\n",
       "      <td>1</td>\n",
       "      <td>89.0</td>\n",
       "      <td>66.0</td>\n",
       "      <td>23.00000</td>\n",
       "      <td>94.000000</td>\n",
       "      <td>28.1</td>\n",
       "      <td>0.167</td>\n",
       "      <td>21</td>\n",
       "    </tr>\n",
       "    <tr>\n",
       "      <th>4</th>\n",
       "      <td>0</td>\n",
       "      <td>137.0</td>\n",
       "      <td>40.0</td>\n",
       "      <td>35.00000</td>\n",
       "      <td>168.000000</td>\n",
       "      <td>43.1</td>\n",
       "      <td>2.288</td>\n",
       "      <td>33</td>\n",
       "    </tr>\n",
       "  </tbody>\n",
       "</table>\n",
       "</div>"
      ],
      "text/plain": [
       "   Number of times pregnant  Plasma glucose concentration  \\\n",
       "0                         6                         148.0   \n",
       "1                         1                          85.0   \n",
       "2                         8                         183.0   \n",
       "3                         1                          89.0   \n",
       "4                         0                         137.0   \n",
       "\n",
       "   Diastolic blood pressure (mm Hg)  Triceps skinfold thickness (mm)  \\\n",
       "0                              72.0                         35.00000   \n",
       "1                              66.0                         29.00000   \n",
       "2                              64.0                         29.15342   \n",
       "3                              66.0                         23.00000   \n",
       "4                              40.0                         35.00000   \n",
       "\n",
       "   2-Hour serum insulin (mu U/ml)  \\\n",
       "0                      155.548223   \n",
       "1                      155.548223   \n",
       "2                      155.548223   \n",
       "3                       94.000000   \n",
       "4                      168.000000   \n",
       "\n",
       "   Body mass index (weight in kg/(height in m)^2)  Diabetes pedigree function  \\\n",
       "0                                            33.6                       0.627   \n",
       "1                                            26.6                       0.351   \n",
       "2                                            23.3                       0.672   \n",
       "3                                            28.1                       0.167   \n",
       "4                                            43.1                       2.288   \n",
       "\n",
       "   Age  \n",
       "0   50  \n",
       "1   31  \n",
       "2   32  \n",
       "3   21  \n",
       "4   33  "
      ]
     },
     "execution_count": 12,
     "metadata": {},
     "output_type": "execute_result"
    }
   ],
   "source": [
    "x.head()"
   ]
  },
  {
   "cell_type": "code",
   "execution_count": 13,
   "metadata": {},
   "outputs": [],
   "source": [
    "# as the datapoints differ a lot in magnitude, we'll scale them\n",
    "from sklearn.preprocessing import StandardScaler\n",
    "scaler=StandardScaler()\n",
    "scaled_data=scaler.fit_transform(x)"
   ]
  },
  {
   "cell_type": "code",
   "execution_count": 14,
   "metadata": {},
   "outputs": [],
   "source": [
    "from sklearn.model_selection import train_test_split\n",
    "train_x,test_x,train_y,test_y=train_test_split(scaled_data,y,test_size=0.3,random_state=42)"
   ]
  },
  {
   "cell_type": "code",
   "execution_count": 15,
   "metadata": {
    "scrolled": true
   },
   "outputs": [
    {
     "data": {
      "text/plain": [
       "XGBClassifier(base_score=None, booster=None, callbacks=None,\n",
       "              colsample_bylevel=None, colsample_bynode=None,\n",
       "              colsample_bytree=None, early_stopping_rounds=None,\n",
       "              enable_categorical=False, eval_metric=None, feature_types=None,\n",
       "              gamma=None, gpu_id=None, grow_policy=None, importance_type=None,\n",
       "              interaction_constraints=None, learning_rate=None, max_bin=None,\n",
       "              max_cat_threshold=None, max_cat_to_onehot=None,\n",
       "              max_delta_step=None, max_depth=None, max_leaves=None,\n",
       "              min_child_weight=None, missing=nan, monotone_constraints=None,\n",
       "              n_estimators=100, n_jobs=None, num_parallel_tree=None,\n",
       "              predictor=None, random_state=None, ...)"
      ]
     },
     "execution_count": 15,
     "metadata": {},
     "output_type": "execute_result"
    }
   ],
   "source": [
    "# fit model no training data\n",
    "model = XGBClassifier(objective='binary:logistic')\n",
    "model.fit(train_x, train_y)"
   ]
  },
  {
   "cell_type": "code",
   "execution_count": 16,
   "metadata": {},
   "outputs": [
    {
     "data": {
      "text/plain": [
       "1.0"
      ]
     },
     "execution_count": 16,
     "metadata": {},
     "output_type": "execute_result"
    }
   ],
   "source": [
    "# cheking training accuracy\n",
    "y_pred = model.predict(train_x)\n",
    "predictions = [round(value) for value in y_pred]\n",
    "accuracy = accuracy_score(train_y,predictions)\n",
    "accuracy"
   ]
  },
  {
   "cell_type": "code",
   "execution_count": 17,
   "metadata": {},
   "outputs": [
    {
     "data": {
      "text/plain": [
       "0.7272727272727273"
      ]
     },
     "execution_count": 17,
     "metadata": {},
     "output_type": "execute_result"
    }
   ],
   "source": [
    "# cheking initial test accuracy\n",
    "y_pred = model.predict(test_x)\n",
    "predictions = [round(value) for value in y_pred]\n",
    "accuracy = accuracy_score(test_y,predictions)\n",
    "accuracy"
   ]
  },
  {
   "cell_type": "code",
   "execution_count": 18,
   "metadata": {},
   "outputs": [
    {
     "data": {
      "text/plain": [
       "array([ 0.63994726, -0.77251205, -1.18156252,  0.43784695,  0.40547846,\n",
       "        0.22451019, -0.1264714 ,  0.83038113])"
      ]
     },
     "execution_count": 18,
     "metadata": {},
     "output_type": "execute_result"
    }
   ],
   "source": [
    "test_x[0]"
   ]
  },
  {
   "cell_type": "markdown",
   "metadata": {},
   "source": [
    "Now to increase the accuracy of the model, we'll do hyperparameter tuning using grid search"
   ]
  },
  {
   "cell_type": "code",
   "execution_count": 19,
   "metadata": {},
   "outputs": [],
   "source": [
    "from sklearn.model_selection import GridSearchCV"
   ]
  },
  {
   "cell_type": "code",
   "execution_count": 20,
   "metadata": {},
   "outputs": [],
   "source": [
    "param_grid={\n",
    "   \n",
    "    ' learning_rate':[1,0.5,0.1,0.01,0.001],\n",
    "    'max_depth': [3,5,10,20],\n",
    "    'n_estimators':[10,50,100,200]\n",
    "    \n",
    "}"
   ]
  },
  {
   "cell_type": "code",
   "execution_count": 21,
   "metadata": {},
   "outputs": [],
   "source": [
    "grid= GridSearchCV(XGBClassifier(objective='binary:logistic'),param_grid, verbose=3)"
   ]
  },
  {
   "cell_type": "code",
   "execution_count": 22,
   "metadata": {},
   "outputs": [
    {
     "name": "stdout",
     "output_type": "stream",
     "text": [
      "Fitting 5 folds for each of 80 candidates, totalling 400 fits\n",
      "[CV 1/5] END  learning_rate=1, max_depth=3, n_estimators=10;, score=nan total time=   0.0s\n",
      "[CV 2/5] END  learning_rate=1, max_depth=3, n_estimators=10;, score=nan total time=   0.0s\n",
      "[CV 3/5] END  learning_rate=1, max_depth=3, n_estimators=10;, score=nan total time=   0.0s\n",
      "[CV 4/5] END  learning_rate=1, max_depth=3, n_estimators=10;, score=nan total time=   0.0s\n",
      "[CV 5/5] END  learning_rate=1, max_depth=3, n_estimators=10;, score=nan total time=   0.0s\n",
      "[CV 1/5] END  learning_rate=1, max_depth=3, n_estimators=50;, score=nan total time=   0.0s\n",
      "[CV 2/5] END  learning_rate=1, max_depth=3, n_estimators=50;, score=nan total time=   0.0s\n",
      "[CV 3/5] END  learning_rate=1, max_depth=3, n_estimators=50;, score=nan total time=   0.0s\n",
      "[CV 4/5] END  learning_rate=1, max_depth=3, n_estimators=50;, score=nan total time=   0.0s\n",
      "[CV 5/5] END  learning_rate=1, max_depth=3, n_estimators=50;, score=nan total time=   0.0s\n",
      "[CV 1/5] END  learning_rate=1, max_depth=3, n_estimators=100;, score=nan total time=   0.0s\n",
      "[CV 2/5] END  learning_rate=1, max_depth=3, n_estimators=100;, score=nan total time=   0.0s\n",
      "[CV 3/5] END  learning_rate=1, max_depth=3, n_estimators=100;, score=nan total time=   0.0s\n",
      "[CV 4/5] END  learning_rate=1, max_depth=3, n_estimators=100;, score=nan total time=   0.0s\n",
      "[CV 5/5] END  learning_rate=1, max_depth=3, n_estimators=100;, score=nan total time=   0.0s\n",
      "[CV 1/5] END  learning_rate=1, max_depth=3, n_estimators=200;, score=nan total time=   0.0s\n",
      "[CV 2/5] END  learning_rate=1, max_depth=3, n_estimators=200;, score=nan total time=   0.0s\n",
      "[CV 3/5] END  learning_rate=1, max_depth=3, n_estimators=200;, score=nan total time=   0.0s\n",
      "[CV 4/5] END  learning_rate=1, max_depth=3, n_estimators=200;, score=nan total time=   0.0s\n",
      "[CV 5/5] END  learning_rate=1, max_depth=3, n_estimators=200;, score=nan total time=   0.0s\n",
      "[CV 1/5] END  learning_rate=1, max_depth=5, n_estimators=10;, score=nan total time=   0.0s\n",
      "[CV 2/5] END  learning_rate=1, max_depth=5, n_estimators=10;, score=nan total time=   0.0s\n",
      "[CV 3/5] END  learning_rate=1, max_depth=5, n_estimators=10;, score=nan total time=   0.0s\n",
      "[CV 4/5] END  learning_rate=1, max_depth=5, n_estimators=10;, score=nan total time=   0.0s\n",
      "[CV 5/5] END  learning_rate=1, max_depth=5, n_estimators=10;, score=nan total time=   0.0s\n",
      "[CV 1/5] END  learning_rate=1, max_depth=5, n_estimators=50;, score=nan total time=   0.0s\n",
      "[CV 2/5] END  learning_rate=1, max_depth=5, n_estimators=50;, score=nan total time=   0.0s\n",
      "[CV 3/5] END  learning_rate=1, max_depth=5, n_estimators=50;, score=nan total time=   0.0s\n",
      "[CV 4/5] END  learning_rate=1, max_depth=5, n_estimators=50;, score=nan total time=   0.0s\n",
      "[CV 5/5] END  learning_rate=1, max_depth=5, n_estimators=50;, score=nan total time=   0.0s\n",
      "[CV 1/5] END  learning_rate=1, max_depth=5, n_estimators=100;, score=nan total time=   0.0s\n",
      "[CV 2/5] END  learning_rate=1, max_depth=5, n_estimators=100;, score=nan total time=   0.0s\n",
      "[CV 3/5] END  learning_rate=1, max_depth=5, n_estimators=100;, score=nan total time=   0.0s\n",
      "[CV 4/5] END  learning_rate=1, max_depth=5, n_estimators=100;, score=nan total time=   0.0s\n",
      "[CV 5/5] END  learning_rate=1, max_depth=5, n_estimators=100;, score=nan total time=   0.0s\n",
      "[CV 1/5] END  learning_rate=1, max_depth=5, n_estimators=200;, score=nan total time=   0.0s\n",
      "[CV 2/5] END  learning_rate=1, max_depth=5, n_estimators=200;, score=nan total time=   0.0s\n",
      "[CV 3/5] END  learning_rate=1, max_depth=5, n_estimators=200;, score=nan total time=   0.0s\n",
      "[CV 4/5] END  learning_rate=1, max_depth=5, n_estimators=200;, score=nan total time=   0.0s\n",
      "[CV 5/5] END  learning_rate=1, max_depth=5, n_estimators=200;, score=nan total time=   0.0s\n",
      "[CV 1/5] END  learning_rate=1, max_depth=10, n_estimators=10;, score=nan total time=   0.0s\n",
      "[CV 2/5] END  learning_rate=1, max_depth=10, n_estimators=10;, score=nan total time=   0.0s\n",
      "[CV 3/5] END  learning_rate=1, max_depth=10, n_estimators=10;, score=nan total time=   0.0s\n",
      "[CV 4/5] END  learning_rate=1, max_depth=10, n_estimators=10;, score=nan total time=   0.0s\n",
      "[CV 5/5] END  learning_rate=1, max_depth=10, n_estimators=10;, score=nan total time=   0.0s\n",
      "[CV 1/5] END  learning_rate=1, max_depth=10, n_estimators=50;, score=nan total time=   0.0s\n",
      "[CV 2/5] END  learning_rate=1, max_depth=10, n_estimators=50;, score=nan total time=   0.0s\n",
      "[CV 3/5] END  learning_rate=1, max_depth=10, n_estimators=50;, score=nan total time=   0.0s\n",
      "[CV 4/5] END  learning_rate=1, max_depth=10, n_estimators=50;, score=nan total time=   0.0s\n",
      "[CV 5/5] END  learning_rate=1, max_depth=10, n_estimators=50;, score=nan total time=   0.0s\n",
      "[CV 1/5] END  learning_rate=1, max_depth=10, n_estimators=100;, score=nan total time=   0.0s\n",
      "[CV 2/5] END  learning_rate=1, max_depth=10, n_estimators=100;, score=nan total time=   0.0s\n",
      "[CV 3/5] END  learning_rate=1, max_depth=10, n_estimators=100;, score=nan total time=   0.0s\n",
      "[CV 4/5] END  learning_rate=1, max_depth=10, n_estimators=100;, score=nan total time=   0.0s\n",
      "[CV 5/5] END  learning_rate=1, max_depth=10, n_estimators=100;, score=nan total time=   0.0s\n",
      "[CV 1/5] END  learning_rate=1, max_depth=10, n_estimators=200;, score=nan total time=   0.0s\n",
      "[CV 2/5] END  learning_rate=1, max_depth=10, n_estimators=200;, score=nan total time=   0.0s\n",
      "[CV 3/5] END  learning_rate=1, max_depth=10, n_estimators=200;, score=nan total time=   0.0s\n",
      "[CV 4/5] END  learning_rate=1, max_depth=10, n_estimators=200;, score=nan total time=   0.0s\n",
      "[CV 5/5] END  learning_rate=1, max_depth=10, n_estimators=200;, score=nan total time=   0.0s\n",
      "[CV 1/5] END  learning_rate=1, max_depth=20, n_estimators=10;, score=nan total time=   0.0s\n",
      "[CV 2/5] END  learning_rate=1, max_depth=20, n_estimators=10;, score=nan total time=   0.0s\n",
      "[CV 3/5] END  learning_rate=1, max_depth=20, n_estimators=10;, score=nan total time=   0.0s\n",
      "[CV 4/5] END  learning_rate=1, max_depth=20, n_estimators=10;, score=nan total time=   0.0s\n",
      "[CV 5/5] END  learning_rate=1, max_depth=20, n_estimators=10;, score=nan total time=   0.0s\n",
      "[CV 1/5] END  learning_rate=1, max_depth=20, n_estimators=50;, score=nan total time=   0.0s\n",
      "[CV 2/5] END  learning_rate=1, max_depth=20, n_estimators=50;, score=nan total time=   0.0s\n",
      "[CV 3/5] END  learning_rate=1, max_depth=20, n_estimators=50;, score=nan total time=   0.0s\n",
      "[CV 4/5] END  learning_rate=1, max_depth=20, n_estimators=50;, score=nan total time=   0.0s\n",
      "[CV 5/5] END  learning_rate=1, max_depth=20, n_estimators=50;, score=nan total time=   0.0s\n",
      "[CV 1/5] END  learning_rate=1, max_depth=20, n_estimators=100;, score=nan total time=   0.0s\n",
      "[CV 2/5] END  learning_rate=1, max_depth=20, n_estimators=100;, score=nan total time=   0.0s\n",
      "[CV 3/5] END  learning_rate=1, max_depth=20, n_estimators=100;, score=nan total time=   0.0s\n",
      "[CV 4/5] END  learning_rate=1, max_depth=20, n_estimators=100;, score=nan total time=   0.0s\n",
      "[CV 5/5] END  learning_rate=1, max_depth=20, n_estimators=100;, score=nan total time=   0.0s\n",
      "[CV 1/5] END  learning_rate=1, max_depth=20, n_estimators=200;, score=nan total time=   0.0s\n",
      "[CV 2/5] END  learning_rate=1, max_depth=20, n_estimators=200;, score=nan total time=   0.0s\n",
      "[CV 3/5] END  learning_rate=1, max_depth=20, n_estimators=200;, score=nan total time=   0.0s\n",
      "[CV 4/5] END  learning_rate=1, max_depth=20, n_estimators=200;, score=nan total time=   0.0s\n",
      "[CV 5/5] END  learning_rate=1, max_depth=20, n_estimators=200;, score=nan total time=   0.0s\n",
      "[CV 1/5] END  learning_rate=0.5, max_depth=3, n_estimators=10;, score=nan total time=   0.0s\n",
      "[CV 2/5] END  learning_rate=0.5, max_depth=3, n_estimators=10;, score=nan total time=   0.0s\n",
      "[CV 3/5] END  learning_rate=0.5, max_depth=3, n_estimators=10;, score=nan total time=   0.0s\n",
      "[CV 4/5] END  learning_rate=0.5, max_depth=3, n_estimators=10;, score=nan total time=   0.0s\n",
      "[CV 5/5] END  learning_rate=0.5, max_depth=3, n_estimators=10;, score=nan total time=   0.0s\n",
      "[CV 1/5] END  learning_rate=0.5, max_depth=3, n_estimators=50;, score=nan total time=   0.0s\n",
      "[CV 2/5] END  learning_rate=0.5, max_depth=3, n_estimators=50;, score=nan total time=   0.0s\n",
      "[CV 3/5] END  learning_rate=0.5, max_depth=3, n_estimators=50;, score=nan total time=   0.0s\n",
      "[CV 4/5] END  learning_rate=0.5, max_depth=3, n_estimators=50;, score=nan total time=   0.0s\n",
      "[CV 5/5] END  learning_rate=0.5, max_depth=3, n_estimators=50;, score=nan total time=   0.0s\n",
      "[CV 1/5] END  learning_rate=0.5, max_depth=3, n_estimators=100;, score=nan total time=   0.0s\n",
      "[CV 2/5] END  learning_rate=0.5, max_depth=3, n_estimators=100;, score=nan total time=   0.0s\n"
     ]
    },
    {
     "name": "stdout",
     "output_type": "stream",
     "text": [
      "[CV 3/5] END  learning_rate=0.5, max_depth=3, n_estimators=100;, score=nan total time=   0.0s\n",
      "[CV 4/5] END  learning_rate=0.5, max_depth=3, n_estimators=100;, score=nan total time=   0.0s\n",
      "[CV 5/5] END  learning_rate=0.5, max_depth=3, n_estimators=100;, score=nan total time=   0.0s\n",
      "[CV 1/5] END  learning_rate=0.5, max_depth=3, n_estimators=200;, score=nan total time=   0.0s\n",
      "[CV 2/5] END  learning_rate=0.5, max_depth=3, n_estimators=200;, score=nan total time=   0.0s\n",
      "[CV 3/5] END  learning_rate=0.5, max_depth=3, n_estimators=200;, score=nan total time=   0.0s\n",
      "[CV 4/5] END  learning_rate=0.5, max_depth=3, n_estimators=200;, score=nan total time=   0.0s\n",
      "[CV 5/5] END  learning_rate=0.5, max_depth=3, n_estimators=200;, score=nan total time=   0.0s\n",
      "[CV 1/5] END  learning_rate=0.5, max_depth=5, n_estimators=10;, score=nan total time=   0.0s\n",
      "[CV 2/5] END  learning_rate=0.5, max_depth=5, n_estimators=10;, score=nan total time=   0.0s\n",
      "[CV 3/5] END  learning_rate=0.5, max_depth=5, n_estimators=10;, score=nan total time=   0.0s\n",
      "[CV 4/5] END  learning_rate=0.5, max_depth=5, n_estimators=10;, score=nan total time=   0.0s\n",
      "[CV 5/5] END  learning_rate=0.5, max_depth=5, n_estimators=10;, score=nan total time=   0.0s\n",
      "[CV 1/5] END  learning_rate=0.5, max_depth=5, n_estimators=50;, score=nan total time=   0.0s\n",
      "[CV 2/5] END  learning_rate=0.5, max_depth=5, n_estimators=50;, score=nan total time=   0.0s\n",
      "[CV 3/5] END  learning_rate=0.5, max_depth=5, n_estimators=50;, score=nan total time=   0.0s\n",
      "[CV 4/5] END  learning_rate=0.5, max_depth=5, n_estimators=50;, score=nan total time=   0.0s\n",
      "[CV 5/5] END  learning_rate=0.5, max_depth=5, n_estimators=50;, score=nan total time=   0.0s\n",
      "[CV 1/5] END  learning_rate=0.5, max_depth=5, n_estimators=100;, score=nan total time=   0.0s\n",
      "[CV 2/5] END  learning_rate=0.5, max_depth=5, n_estimators=100;, score=nan total time=   0.0s\n",
      "[CV 3/5] END  learning_rate=0.5, max_depth=5, n_estimators=100;, score=nan total time=   0.0s\n",
      "[CV 4/5] END  learning_rate=0.5, max_depth=5, n_estimators=100;, score=nan total time=   0.0s\n",
      "[CV 5/5] END  learning_rate=0.5, max_depth=5, n_estimators=100;, score=nan total time=   0.0s\n",
      "[CV 1/5] END  learning_rate=0.5, max_depth=5, n_estimators=200;, score=nan total time=   0.0s\n",
      "[CV 2/5] END  learning_rate=0.5, max_depth=5, n_estimators=200;, score=nan total time=   0.0s\n",
      "[CV 3/5] END  learning_rate=0.5, max_depth=5, n_estimators=200;, score=nan total time=   0.0s\n",
      "[CV 4/5] END  learning_rate=0.5, max_depth=5, n_estimators=200;, score=nan total time=   0.0s\n",
      "[CV 5/5] END  learning_rate=0.5, max_depth=5, n_estimators=200;, score=nan total time=   0.0s\n",
      "[CV 1/5] END  learning_rate=0.5, max_depth=10, n_estimators=10;, score=nan total time=   0.0s\n",
      "[CV 2/5] END  learning_rate=0.5, max_depth=10, n_estimators=10;, score=nan total time=   0.0s\n",
      "[CV 3/5] END  learning_rate=0.5, max_depth=10, n_estimators=10;, score=nan total time=   0.0s\n",
      "[CV 4/5] END  learning_rate=0.5, max_depth=10, n_estimators=10;, score=nan total time=   0.0s\n",
      "[CV 5/5] END  learning_rate=0.5, max_depth=10, n_estimators=10;, score=nan total time=   0.0s\n",
      "[CV 1/5] END  learning_rate=0.5, max_depth=10, n_estimators=50;, score=nan total time=   0.0s\n",
      "[CV 2/5] END  learning_rate=0.5, max_depth=10, n_estimators=50;, score=nan total time=   0.0s\n",
      "[CV 3/5] END  learning_rate=0.5, max_depth=10, n_estimators=50;, score=nan total time=   0.0s\n",
      "[CV 4/5] END  learning_rate=0.5, max_depth=10, n_estimators=50;, score=nan total time=   0.0s\n",
      "[CV 5/5] END  learning_rate=0.5, max_depth=10, n_estimators=50;, score=nan total time=   0.0s\n",
      "[CV 1/5] END  learning_rate=0.5, max_depth=10, n_estimators=100;, score=nan total time=   0.0s\n",
      "[CV 2/5] END  learning_rate=0.5, max_depth=10, n_estimators=100;, score=nan total time=   0.0s\n",
      "[CV 3/5] END  learning_rate=0.5, max_depth=10, n_estimators=100;, score=nan total time=   0.0s\n",
      "[CV 4/5] END  learning_rate=0.5, max_depth=10, n_estimators=100;, score=nan total time=   0.0s\n",
      "[CV 5/5] END  learning_rate=0.5, max_depth=10, n_estimators=100;, score=nan total time=   0.0s\n",
      "[CV 1/5] END  learning_rate=0.5, max_depth=10, n_estimators=200;, score=nan total time=   0.0s\n",
      "[CV 2/5] END  learning_rate=0.5, max_depth=10, n_estimators=200;, score=nan total time=   0.0s\n",
      "[CV 3/5] END  learning_rate=0.5, max_depth=10, n_estimators=200;, score=nan total time=   0.0s\n",
      "[CV 4/5] END  learning_rate=0.5, max_depth=10, n_estimators=200;, score=nan total time=   0.0s\n",
      "[CV 5/5] END  learning_rate=0.5, max_depth=10, n_estimators=200;, score=nan total time=   0.0s\n",
      "[CV 1/5] END  learning_rate=0.5, max_depth=20, n_estimators=10;, score=nan total time=   0.0s\n",
      "[CV 2/5] END  learning_rate=0.5, max_depth=20, n_estimators=10;, score=nan total time=   0.0s\n",
      "[CV 3/5] END  learning_rate=0.5, max_depth=20, n_estimators=10;, score=nan total time=   0.0s\n",
      "[CV 4/5] END  learning_rate=0.5, max_depth=20, n_estimators=10;, score=nan total time=   0.0s\n",
      "[CV 5/5] END  learning_rate=0.5, max_depth=20, n_estimators=10;, score=nan total time=   0.0s\n",
      "[CV 1/5] END  learning_rate=0.5, max_depth=20, n_estimators=50;, score=nan total time=   0.0s\n",
      "[CV 2/5] END  learning_rate=0.5, max_depth=20, n_estimators=50;, score=nan total time=   0.0s\n",
      "[CV 3/5] END  learning_rate=0.5, max_depth=20, n_estimators=50;, score=nan total time=   0.0s\n",
      "[CV 4/5] END  learning_rate=0.5, max_depth=20, n_estimators=50;, score=nan total time=   0.0s\n",
      "[CV 5/5] END  learning_rate=0.5, max_depth=20, n_estimators=50;, score=nan total time=   0.0s\n",
      "[CV 1/5] END  learning_rate=0.5, max_depth=20, n_estimators=100;, score=nan total time=   0.0s\n",
      "[CV 2/5] END  learning_rate=0.5, max_depth=20, n_estimators=100;, score=nan total time=   0.0s\n",
      "[CV 3/5] END  learning_rate=0.5, max_depth=20, n_estimators=100;, score=nan total time=   0.0s\n",
      "[CV 4/5] END  learning_rate=0.5, max_depth=20, n_estimators=100;, score=nan total time=   0.0s\n",
      "[CV 5/5] END  learning_rate=0.5, max_depth=20, n_estimators=100;, score=nan total time=   0.0s\n",
      "[CV 1/5] END  learning_rate=0.5, max_depth=20, n_estimators=200;, score=nan total time=   0.0s\n",
      "[CV 2/5] END  learning_rate=0.5, max_depth=20, n_estimators=200;, score=nan total time=   0.0s\n",
      "[CV 3/5] END  learning_rate=0.5, max_depth=20, n_estimators=200;, score=nan total time=   0.0s\n",
      "[CV 4/5] END  learning_rate=0.5, max_depth=20, n_estimators=200;, score=nan total time=   0.0s\n",
      "[CV 5/5] END  learning_rate=0.5, max_depth=20, n_estimators=200;, score=nan total time=   0.0s\n",
      "[CV 1/5] END  learning_rate=0.1, max_depth=3, n_estimators=10;, score=nan total time=   0.0s\n",
      "[CV 2/5] END  learning_rate=0.1, max_depth=3, n_estimators=10;, score=nan total time=   0.0s\n",
      "[CV 3/5] END  learning_rate=0.1, max_depth=3, n_estimators=10;, score=nan total time=   0.0s\n",
      "[CV 4/5] END  learning_rate=0.1, max_depth=3, n_estimators=10;, score=nan total time=   0.0s\n",
      "[CV 5/5] END  learning_rate=0.1, max_depth=3, n_estimators=10;, score=nan total time=   0.0s\n",
      "[CV 1/5] END  learning_rate=0.1, max_depth=3, n_estimators=50;, score=nan total time=   0.0s\n",
      "[CV 2/5] END  learning_rate=0.1, max_depth=3, n_estimators=50;, score=nan total time=   0.0s\n",
      "[CV 3/5] END  learning_rate=0.1, max_depth=3, n_estimators=50;, score=nan total time=   0.0s\n",
      "[CV 4/5] END  learning_rate=0.1, max_depth=3, n_estimators=50;, score=nan total time=   0.0s\n",
      "[CV 5/5] END  learning_rate=0.1, max_depth=3, n_estimators=50;, score=nan total time=   0.0s\n",
      "[CV 1/5] END  learning_rate=0.1, max_depth=3, n_estimators=100;, score=nan total time=   0.0s\n",
      "[CV 2/5] END  learning_rate=0.1, max_depth=3, n_estimators=100;, score=nan total time=   0.0s\n",
      "[CV 3/5] END  learning_rate=0.1, max_depth=3, n_estimators=100;, score=nan total time=   0.0s\n",
      "[CV 4/5] END  learning_rate=0.1, max_depth=3, n_estimators=100;, score=nan total time=   0.0s\n",
      "[CV 5/5] END  learning_rate=0.1, max_depth=3, n_estimators=100;, score=nan total time=   0.0s\n",
      "[CV 1/5] END  learning_rate=0.1, max_depth=3, n_estimators=200;, score=nan total time=   0.0s\n",
      "[CV 2/5] END  learning_rate=0.1, max_depth=3, n_estimators=200;, score=nan total time=   0.0s\n",
      "[CV 3/5] END  learning_rate=0.1, max_depth=3, n_estimators=200;, score=nan total time=   0.0s\n",
      "[CV 4/5] END  learning_rate=0.1, max_depth=3, n_estimators=200;, score=nan total time=   0.0s\n",
      "[CV 5/5] END  learning_rate=0.1, max_depth=3, n_estimators=200;, score=nan total time=   0.0s\n",
      "[CV 1/5] END  learning_rate=0.1, max_depth=5, n_estimators=10;, score=nan total time=   0.0s\n",
      "[CV 2/5] END  learning_rate=0.1, max_depth=5, n_estimators=10;, score=nan total time=   0.0s\n",
      "[CV 3/5] END  learning_rate=0.1, max_depth=5, n_estimators=10;, score=nan total time=   0.0s\n",
      "[CV 4/5] END  learning_rate=0.1, max_depth=5, n_estimators=10;, score=nan total time=   0.0s\n",
      "[CV 5/5] END  learning_rate=0.1, max_depth=5, n_estimators=10;, score=nan total time=   0.0s\n"
     ]
    },
    {
     "name": "stdout",
     "output_type": "stream",
     "text": [
      "[CV 1/5] END  learning_rate=0.1, max_depth=5, n_estimators=50;, score=nan total time=   0.0s\n",
      "[CV 2/5] END  learning_rate=0.1, max_depth=5, n_estimators=50;, score=nan total time=   0.0s\n",
      "[CV 3/5] END  learning_rate=0.1, max_depth=5, n_estimators=50;, score=nan total time=   0.0s\n",
      "[CV 4/5] END  learning_rate=0.1, max_depth=5, n_estimators=50;, score=nan total time=   0.0s\n",
      "[CV 5/5] END  learning_rate=0.1, max_depth=5, n_estimators=50;, score=nan total time=   0.0s\n",
      "[CV 1/5] END  learning_rate=0.1, max_depth=5, n_estimators=100;, score=nan total time=   0.0s\n",
      "[CV 2/5] END  learning_rate=0.1, max_depth=5, n_estimators=100;, score=nan total time=   0.0s\n",
      "[CV 3/5] END  learning_rate=0.1, max_depth=5, n_estimators=100;, score=nan total time=   0.0s\n",
      "[CV 4/5] END  learning_rate=0.1, max_depth=5, n_estimators=100;, score=nan total time=   0.0s\n",
      "[CV 5/5] END  learning_rate=0.1, max_depth=5, n_estimators=100;, score=nan total time=   0.0s\n",
      "[CV 1/5] END  learning_rate=0.1, max_depth=5, n_estimators=200;, score=nan total time=   0.0s\n",
      "[CV 2/5] END  learning_rate=0.1, max_depth=5, n_estimators=200;, score=nan total time=   0.0s\n",
      "[CV 3/5] END  learning_rate=0.1, max_depth=5, n_estimators=200;, score=nan total time=   0.0s\n",
      "[CV 4/5] END  learning_rate=0.1, max_depth=5, n_estimators=200;, score=nan total time=   0.0s\n",
      "[CV 5/5] END  learning_rate=0.1, max_depth=5, n_estimators=200;, score=nan total time=   0.0s\n",
      "[CV 1/5] END  learning_rate=0.1, max_depth=10, n_estimators=10;, score=nan total time=   0.0s\n",
      "[CV 2/5] END  learning_rate=0.1, max_depth=10, n_estimators=10;, score=nan total time=   0.0s\n",
      "[CV 3/5] END  learning_rate=0.1, max_depth=10, n_estimators=10;, score=nan total time=   0.0s\n",
      "[CV 4/5] END  learning_rate=0.1, max_depth=10, n_estimators=10;, score=nan total time=   0.0s\n",
      "[CV 5/5] END  learning_rate=0.1, max_depth=10, n_estimators=10;, score=nan total time=   0.0s\n",
      "[CV 1/5] END  learning_rate=0.1, max_depth=10, n_estimators=50;, score=nan total time=   0.0s\n",
      "[CV 2/5] END  learning_rate=0.1, max_depth=10, n_estimators=50;, score=nan total time=   0.0s\n",
      "[CV 3/5] END  learning_rate=0.1, max_depth=10, n_estimators=50;, score=nan total time=   0.0s\n",
      "[CV 4/5] END  learning_rate=0.1, max_depth=10, n_estimators=50;, score=nan total time=   0.0s\n",
      "[CV 5/5] END  learning_rate=0.1, max_depth=10, n_estimators=50;, score=nan total time=   0.0s\n",
      "[CV 1/5] END  learning_rate=0.1, max_depth=10, n_estimators=100;, score=nan total time=   0.0s\n",
      "[CV 2/5] END  learning_rate=0.1, max_depth=10, n_estimators=100;, score=nan total time=   0.0s\n",
      "[CV 3/5] END  learning_rate=0.1, max_depth=10, n_estimators=100;, score=nan total time=   0.0s\n",
      "[CV 4/5] END  learning_rate=0.1, max_depth=10, n_estimators=100;, score=nan total time=   0.0s\n",
      "[CV 5/5] END  learning_rate=0.1, max_depth=10, n_estimators=100;, score=nan total time=   0.0s\n",
      "[CV 1/5] END  learning_rate=0.1, max_depth=10, n_estimators=200;, score=nan total time=   0.0s\n",
      "[CV 2/5] END  learning_rate=0.1, max_depth=10, n_estimators=200;, score=nan total time=   0.0s\n",
      "[CV 3/5] END  learning_rate=0.1, max_depth=10, n_estimators=200;, score=nan total time=   0.0s\n",
      "[CV 4/5] END  learning_rate=0.1, max_depth=10, n_estimators=200;, score=nan total time=   0.0s\n",
      "[CV 5/5] END  learning_rate=0.1, max_depth=10, n_estimators=200;, score=nan total time=   0.0s\n",
      "[CV 1/5] END  learning_rate=0.1, max_depth=20, n_estimators=10;, score=nan total time=   0.0s\n",
      "[CV 2/5] END  learning_rate=0.1, max_depth=20, n_estimators=10;, score=nan total time=   0.0s\n",
      "[CV 3/5] END  learning_rate=0.1, max_depth=20, n_estimators=10;, score=nan total time=   0.0s\n",
      "[CV 4/5] END  learning_rate=0.1, max_depth=20, n_estimators=10;, score=nan total time=   0.0s\n",
      "[CV 5/5] END  learning_rate=0.1, max_depth=20, n_estimators=10;, score=nan total time=   0.0s\n",
      "[CV 1/5] END  learning_rate=0.1, max_depth=20, n_estimators=50;, score=nan total time=   0.0s\n",
      "[CV 2/5] END  learning_rate=0.1, max_depth=20, n_estimators=50;, score=nan total time=   0.0s\n",
      "[CV 3/5] END  learning_rate=0.1, max_depth=20, n_estimators=50;, score=nan total time=   0.0s\n",
      "[CV 4/5] END  learning_rate=0.1, max_depth=20, n_estimators=50;, score=nan total time=   0.0s\n",
      "[CV 5/5] END  learning_rate=0.1, max_depth=20, n_estimators=50;, score=nan total time=   0.0s\n",
      "[CV 1/5] END  learning_rate=0.1, max_depth=20, n_estimators=100;, score=nan total time=   0.0s\n",
      "[CV 2/5] END  learning_rate=0.1, max_depth=20, n_estimators=100;, score=nan total time=   0.0s\n",
      "[CV 3/5] END  learning_rate=0.1, max_depth=20, n_estimators=100;, score=nan total time=   0.0s\n",
      "[CV 4/5] END  learning_rate=0.1, max_depth=20, n_estimators=100;, score=nan total time=   0.0s\n",
      "[CV 5/5] END  learning_rate=0.1, max_depth=20, n_estimators=100;, score=nan total time=   0.0s\n",
      "[CV 1/5] END  learning_rate=0.1, max_depth=20, n_estimators=200;, score=nan total time=   0.0s\n",
      "[CV 2/5] END  learning_rate=0.1, max_depth=20, n_estimators=200;, score=nan total time=   0.0s\n",
      "[CV 3/5] END  learning_rate=0.1, max_depth=20, n_estimators=200;, score=nan total time=   0.0s\n",
      "[CV 4/5] END  learning_rate=0.1, max_depth=20, n_estimators=200;, score=nan total time=   0.0s\n",
      "[CV 5/5] END  learning_rate=0.1, max_depth=20, n_estimators=200;, score=nan total time=   0.0s\n",
      "[CV 1/5] END  learning_rate=0.01, max_depth=3, n_estimators=10;, score=nan total time=   0.0s\n",
      "[CV 2/5] END  learning_rate=0.01, max_depth=3, n_estimators=10;, score=nan total time=   0.0s\n",
      "[CV 3/5] END  learning_rate=0.01, max_depth=3, n_estimators=10;, score=nan total time=   0.0s\n",
      "[CV 4/5] END  learning_rate=0.01, max_depth=3, n_estimators=10;, score=nan total time=   0.0s\n",
      "[CV 5/5] END  learning_rate=0.01, max_depth=3, n_estimators=10;, score=nan total time=   0.0s\n",
      "[CV 1/5] END  learning_rate=0.01, max_depth=3, n_estimators=50;, score=nan total time=   0.0s\n",
      "[CV 2/5] END  learning_rate=0.01, max_depth=3, n_estimators=50;, score=nan total time=   0.0s\n",
      "[CV 3/5] END  learning_rate=0.01, max_depth=3, n_estimators=50;, score=nan total time=   0.0s\n",
      "[CV 4/5] END  learning_rate=0.01, max_depth=3, n_estimators=50;, score=nan total time=   0.0s\n",
      "[CV 5/5] END  learning_rate=0.01, max_depth=3, n_estimators=50;, score=nan total time=   0.0s\n",
      "[CV 1/5] END  learning_rate=0.01, max_depth=3, n_estimators=100;, score=nan total time=   0.0s\n",
      "[CV 2/5] END  learning_rate=0.01, max_depth=3, n_estimators=100;, score=nan total time=   0.0s\n",
      "[CV 3/5] END  learning_rate=0.01, max_depth=3, n_estimators=100;, score=nan total time=   0.0s\n",
      "[CV 4/5] END  learning_rate=0.01, max_depth=3, n_estimators=100;, score=nan total time=   0.0s\n",
      "[CV 5/5] END  learning_rate=0.01, max_depth=3, n_estimators=100;, score=nan total time=   0.0s\n",
      "[CV 1/5] END  learning_rate=0.01, max_depth=3, n_estimators=200;, score=nan total time=   0.0s\n",
      "[CV 2/5] END  learning_rate=0.01, max_depth=3, n_estimators=200;, score=nan total time=   0.0s\n",
      "[CV 3/5] END  learning_rate=0.01, max_depth=3, n_estimators=200;, score=nan total time=   0.0s\n",
      "[CV 4/5] END  learning_rate=0.01, max_depth=3, n_estimators=200;, score=nan total time=   0.0s\n",
      "[CV 5/5] END  learning_rate=0.01, max_depth=3, n_estimators=200;, score=nan total time=   0.0s\n",
      "[CV 1/5] END  learning_rate=0.01, max_depth=5, n_estimators=10;, score=nan total time=   0.0s\n",
      "[CV 2/5] END  learning_rate=0.01, max_depth=5, n_estimators=10;, score=nan total time=   0.0s\n",
      "[CV 3/5] END  learning_rate=0.01, max_depth=5, n_estimators=10;, score=nan total time=   0.0s\n",
      "[CV 4/5] END  learning_rate=0.01, max_depth=5, n_estimators=10;, score=nan total time=   0.0s\n",
      "[CV 5/5] END  learning_rate=0.01, max_depth=5, n_estimators=10;, score=nan total time=   0.0s\n",
      "[CV 1/5] END  learning_rate=0.01, max_depth=5, n_estimators=50;, score=nan total time=   0.0s\n",
      "[CV 2/5] END  learning_rate=0.01, max_depth=5, n_estimators=50;, score=nan total time=   0.0s\n",
      "[CV 3/5] END  learning_rate=0.01, max_depth=5, n_estimators=50;, score=nan total time=   0.0s\n",
      "[CV 4/5] END  learning_rate=0.01, max_depth=5, n_estimators=50;, score=nan total time=   0.0s\n",
      "[CV 5/5] END  learning_rate=0.01, max_depth=5, n_estimators=50;, score=nan total time=   0.0s\n",
      "[CV 1/5] END  learning_rate=0.01, max_depth=5, n_estimators=100;, score=nan total time=   0.0s\n",
      "[CV 2/5] END  learning_rate=0.01, max_depth=5, n_estimators=100;, score=nan total time=   0.0s\n",
      "[CV 3/5] END  learning_rate=0.01, max_depth=5, n_estimators=100;, score=nan total time=   0.0s\n",
      "[CV 4/5] END  learning_rate=0.01, max_depth=5, n_estimators=100;, score=nan total time=   0.0s\n",
      "[CV 5/5] END  learning_rate=0.01, max_depth=5, n_estimators=100;, score=nan total time=   0.0s\n",
      "[CV 1/5] END  learning_rate=0.01, max_depth=5, n_estimators=200;, score=nan total time=   0.0s\n",
      "[CV 2/5] END  learning_rate=0.01, max_depth=5, n_estimators=200;, score=nan total time=   0.0s\n",
      "[CV 3/5] END  learning_rate=0.01, max_depth=5, n_estimators=200;, score=nan total time=   0.0s\n",
      "[CV 4/5] END  learning_rate=0.01, max_depth=5, n_estimators=200;, score=nan total time=   0.0s\n",
      "[CV 5/5] END  learning_rate=0.01, max_depth=5, n_estimators=200;, score=nan total time=   0.0s\n",
      "[CV 1/5] END  learning_rate=0.01, max_depth=10, n_estimators=10;, score=nan total time=   0.0s\n",
      "[CV 2/5] END  learning_rate=0.01, max_depth=10, n_estimators=10;, score=nan total time=   0.0s\n",
      "[CV 3/5] END  learning_rate=0.01, max_depth=10, n_estimators=10;, score=nan total time=   0.0s\n",
      "[CV 4/5] END  learning_rate=0.01, max_depth=10, n_estimators=10;, score=nan total time=   0.0s\n",
      "[CV 5/5] END  learning_rate=0.01, max_depth=10, n_estimators=10;, score=nan total time=   0.0s\n",
      "[CV 1/5] END  learning_rate=0.01, max_depth=10, n_estimators=50;, score=nan total time=   0.0s\n",
      "[CV 2/5] END  learning_rate=0.01, max_depth=10, n_estimators=50;, score=nan total time=   0.0s\n",
      "[CV 3/5] END  learning_rate=0.01, max_depth=10, n_estimators=50;, score=nan total time=   0.0s\n"
     ]
    },
    {
     "name": "stdout",
     "output_type": "stream",
     "text": [
      "[CV 4/5] END  learning_rate=0.01, max_depth=10, n_estimators=50;, score=nan total time=   0.0s\n",
      "[CV 5/5] END  learning_rate=0.01, max_depth=10, n_estimators=50;, score=nan total time=   0.0s\n",
      "[CV 1/5] END  learning_rate=0.01, max_depth=10, n_estimators=100;, score=nan total time=   0.0s\n",
      "[CV 2/5] END  learning_rate=0.01, max_depth=10, n_estimators=100;, score=nan total time=   0.0s\n",
      "[CV 3/5] END  learning_rate=0.01, max_depth=10, n_estimators=100;, score=nan total time=   0.0s\n",
      "[CV 4/5] END  learning_rate=0.01, max_depth=10, n_estimators=100;, score=nan total time=   0.0s\n",
      "[CV 5/5] END  learning_rate=0.01, max_depth=10, n_estimators=100;, score=nan total time=   0.0s\n",
      "[CV 1/5] END  learning_rate=0.01, max_depth=10, n_estimators=200;, score=nan total time=   0.0s\n",
      "[CV 2/5] END  learning_rate=0.01, max_depth=10, n_estimators=200;, score=nan total time=   0.0s\n",
      "[CV 3/5] END  learning_rate=0.01, max_depth=10, n_estimators=200;, score=nan total time=   0.0s\n",
      "[CV 4/5] END  learning_rate=0.01, max_depth=10, n_estimators=200;, score=nan total time=   0.0s\n",
      "[CV 5/5] END  learning_rate=0.01, max_depth=10, n_estimators=200;, score=nan total time=   0.0s\n",
      "[CV 1/5] END  learning_rate=0.01, max_depth=20, n_estimators=10;, score=nan total time=   0.0s\n",
      "[CV 2/5] END  learning_rate=0.01, max_depth=20, n_estimators=10;, score=nan total time=   0.0s\n",
      "[CV 3/5] END  learning_rate=0.01, max_depth=20, n_estimators=10;, score=nan total time=   0.0s\n",
      "[CV 4/5] END  learning_rate=0.01, max_depth=20, n_estimators=10;, score=nan total time=   0.0s\n",
      "[CV 5/5] END  learning_rate=0.01, max_depth=20, n_estimators=10;, score=nan total time=   0.0s\n",
      "[CV 1/5] END  learning_rate=0.01, max_depth=20, n_estimators=50;, score=nan total time=   0.0s\n",
      "[CV 2/5] END  learning_rate=0.01, max_depth=20, n_estimators=50;, score=nan total time=   0.0s\n",
      "[CV 3/5] END  learning_rate=0.01, max_depth=20, n_estimators=50;, score=nan total time=   0.0s\n",
      "[CV 4/5] END  learning_rate=0.01, max_depth=20, n_estimators=50;, score=nan total time=   0.0s\n",
      "[CV 5/5] END  learning_rate=0.01, max_depth=20, n_estimators=50;, score=nan total time=   0.0s\n",
      "[CV 1/5] END  learning_rate=0.01, max_depth=20, n_estimators=100;, score=nan total time=   0.0s\n",
      "[CV 2/5] END  learning_rate=0.01, max_depth=20, n_estimators=100;, score=nan total time=   0.0s\n",
      "[CV 3/5] END  learning_rate=0.01, max_depth=20, n_estimators=100;, score=nan total time=   0.0s\n",
      "[CV 4/5] END  learning_rate=0.01, max_depth=20, n_estimators=100;, score=nan total time=   0.0s\n",
      "[CV 5/5] END  learning_rate=0.01, max_depth=20, n_estimators=100;, score=nan total time=   0.0s\n",
      "[CV 1/5] END  learning_rate=0.01, max_depth=20, n_estimators=200;, score=nan total time=   0.0s\n",
      "[CV 2/5] END  learning_rate=0.01, max_depth=20, n_estimators=200;, score=nan total time=   0.0s\n",
      "[CV 3/5] END  learning_rate=0.01, max_depth=20, n_estimators=200;, score=nan total time=   0.0s\n",
      "[CV 4/5] END  learning_rate=0.01, max_depth=20, n_estimators=200;, score=nan total time=   0.0s\n",
      "[CV 5/5] END  learning_rate=0.01, max_depth=20, n_estimators=200;, score=nan total time=   0.0s\n",
      "[CV 1/5] END  learning_rate=0.001, max_depth=3, n_estimators=10;, score=nan total time=   0.0s\n",
      "[CV 2/5] END  learning_rate=0.001, max_depth=3, n_estimators=10;, score=nan total time=   0.0s\n",
      "[CV 3/5] END  learning_rate=0.001, max_depth=3, n_estimators=10;, score=nan total time=   0.0s\n",
      "[CV 4/5] END  learning_rate=0.001, max_depth=3, n_estimators=10;, score=nan total time=   0.0s\n",
      "[CV 5/5] END  learning_rate=0.001, max_depth=3, n_estimators=10;, score=nan total time=   0.0s\n",
      "[CV 1/5] END  learning_rate=0.001, max_depth=3, n_estimators=50;, score=nan total time=   0.0s\n",
      "[CV 2/5] END  learning_rate=0.001, max_depth=3, n_estimators=50;, score=nan total time=   0.0s\n",
      "[CV 3/5] END  learning_rate=0.001, max_depth=3, n_estimators=50;, score=nan total time=   0.0s\n",
      "[CV 4/5] END  learning_rate=0.001, max_depth=3, n_estimators=50;, score=nan total time=   0.0s\n",
      "[CV 5/5] END  learning_rate=0.001, max_depth=3, n_estimators=50;, score=nan total time=   0.0s\n",
      "[CV 1/5] END  learning_rate=0.001, max_depth=3, n_estimators=100;, score=nan total time=   0.0s\n",
      "[CV 2/5] END  learning_rate=0.001, max_depth=3, n_estimators=100;, score=nan total time=   0.0s\n",
      "[CV 3/5] END  learning_rate=0.001, max_depth=3, n_estimators=100;, score=nan total time=   0.0s\n",
      "[CV 4/5] END  learning_rate=0.001, max_depth=3, n_estimators=100;, score=nan total time=   0.0s\n",
      "[CV 5/5] END  learning_rate=0.001, max_depth=3, n_estimators=100;, score=nan total time=   0.0s\n",
      "[CV 1/5] END  learning_rate=0.001, max_depth=3, n_estimators=200;, score=nan total time=   0.0s\n",
      "[CV 2/5] END  learning_rate=0.001, max_depth=3, n_estimators=200;, score=nan total time=   0.0s\n",
      "[CV 3/5] END  learning_rate=0.001, max_depth=3, n_estimators=200;, score=nan total time=   0.0s\n",
      "[CV 4/5] END  learning_rate=0.001, max_depth=3, n_estimators=200;, score=nan total time=   0.0s\n",
      "[CV 5/5] END  learning_rate=0.001, max_depth=3, n_estimators=200;, score=nan total time=   0.0s\n",
      "[CV 1/5] END  learning_rate=0.001, max_depth=5, n_estimators=10;, score=nan total time=   0.0s\n",
      "[CV 2/5] END  learning_rate=0.001, max_depth=5, n_estimators=10;, score=nan total time=   0.0s\n",
      "[CV 3/5] END  learning_rate=0.001, max_depth=5, n_estimators=10;, score=nan total time=   0.0s\n",
      "[CV 4/5] END  learning_rate=0.001, max_depth=5, n_estimators=10;, score=nan total time=   0.0s\n",
      "[CV 5/5] END  learning_rate=0.001, max_depth=5, n_estimators=10;, score=nan total time=   0.0s\n",
      "[CV 1/5] END  learning_rate=0.001, max_depth=5, n_estimators=50;, score=nan total time=   0.0s\n",
      "[CV 2/5] END  learning_rate=0.001, max_depth=5, n_estimators=50;, score=nan total time=   0.0s\n",
      "[CV 3/5] END  learning_rate=0.001, max_depth=5, n_estimators=50;, score=nan total time=   0.0s\n",
      "[CV 4/5] END  learning_rate=0.001, max_depth=5, n_estimators=50;, score=nan total time=   0.0s\n",
      "[CV 5/5] END  learning_rate=0.001, max_depth=5, n_estimators=50;, score=nan total time=   0.0s\n",
      "[CV 1/5] END  learning_rate=0.001, max_depth=5, n_estimators=100;, score=nan total time=   0.0s\n",
      "[CV 2/5] END  learning_rate=0.001, max_depth=5, n_estimators=100;, score=nan total time=   0.0s\n",
      "[CV 3/5] END  learning_rate=0.001, max_depth=5, n_estimators=100;, score=nan total time=   0.0s\n",
      "[CV 4/5] END  learning_rate=0.001, max_depth=5, n_estimators=100;, score=nan total time=   0.0s\n",
      "[CV 5/5] END  learning_rate=0.001, max_depth=5, n_estimators=100;, score=nan total time=   0.0s\n",
      "[CV 1/5] END  learning_rate=0.001, max_depth=5, n_estimators=200;, score=nan total time=   0.0s\n",
      "[CV 2/5] END  learning_rate=0.001, max_depth=5, n_estimators=200;, score=nan total time=   0.0s\n",
      "[CV 3/5] END  learning_rate=0.001, max_depth=5, n_estimators=200;, score=nan total time=   0.0s\n",
      "[CV 4/5] END  learning_rate=0.001, max_depth=5, n_estimators=200;, score=nan total time=   0.0s\n",
      "[CV 5/5] END  learning_rate=0.001, max_depth=5, n_estimators=200;, score=nan total time=   0.0s\n",
      "[CV 1/5] END  learning_rate=0.001, max_depth=10, n_estimators=10;, score=nan total time=   0.0s\n",
      "[CV 2/5] END  learning_rate=0.001, max_depth=10, n_estimators=10;, score=nan total time=   0.0s\n",
      "[CV 3/5] END  learning_rate=0.001, max_depth=10, n_estimators=10;, score=nan total time=   0.0s\n",
      "[CV 4/5] END  learning_rate=0.001, max_depth=10, n_estimators=10;, score=nan total time=   0.0s\n",
      "[CV 5/5] END  learning_rate=0.001, max_depth=10, n_estimators=10;, score=nan total time=   0.0s\n",
      "[CV 1/5] END  learning_rate=0.001, max_depth=10, n_estimators=50;, score=nan total time=   0.0s\n",
      "[CV 2/5] END  learning_rate=0.001, max_depth=10, n_estimators=50;, score=nan total time=   0.0s\n",
      "[CV 3/5] END  learning_rate=0.001, max_depth=10, n_estimators=50;, score=nan total time=   0.0s\n",
      "[CV 4/5] END  learning_rate=0.001, max_depth=10, n_estimators=50;, score=nan total time=   0.0s\n",
      "[CV 5/5] END  learning_rate=0.001, max_depth=10, n_estimators=50;, score=nan total time=   0.0s\n",
      "[CV 1/5] END  learning_rate=0.001, max_depth=10, n_estimators=100;, score=nan total time=   0.0s\n",
      "[CV 2/5] END  learning_rate=0.001, max_depth=10, n_estimators=100;, score=nan total time=   0.0s\n",
      "[CV 3/5] END  learning_rate=0.001, max_depth=10, n_estimators=100;, score=nan total time=   0.0s\n",
      "[CV 4/5] END  learning_rate=0.001, max_depth=10, n_estimators=100;, score=nan total time=   0.0s\n"
     ]
    },
    {
     "name": "stdout",
     "output_type": "stream",
     "text": [
      "[CV 5/5] END  learning_rate=0.001, max_depth=10, n_estimators=100;, score=nan total time=   0.0s\n",
      "[CV 1/5] END  learning_rate=0.001, max_depth=10, n_estimators=200;, score=nan total time=   0.0s\n",
      "[CV 2/5] END  learning_rate=0.001, max_depth=10, n_estimators=200;, score=nan total time=   0.0s\n",
      "[CV 3/5] END  learning_rate=0.001, max_depth=10, n_estimators=200;, score=nan total time=   0.0s\n",
      "[CV 4/5] END  learning_rate=0.001, max_depth=10, n_estimators=200;, score=nan total time=   0.0s\n",
      "[CV 5/5] END  learning_rate=0.001, max_depth=10, n_estimators=200;, score=nan total time=   0.0s\n",
      "[CV 1/5] END  learning_rate=0.001, max_depth=20, n_estimators=10;, score=nan total time=   0.0s\n",
      "[CV 2/5] END  learning_rate=0.001, max_depth=20, n_estimators=10;, score=nan total time=   0.0s\n",
      "[CV 3/5] END  learning_rate=0.001, max_depth=20, n_estimators=10;, score=nan total time=   0.0s\n",
      "[CV 4/5] END  learning_rate=0.001, max_depth=20, n_estimators=10;, score=nan total time=   0.0s\n",
      "[CV 5/5] END  learning_rate=0.001, max_depth=20, n_estimators=10;, score=nan total time=   0.0s\n",
      "[CV 1/5] END  learning_rate=0.001, max_depth=20, n_estimators=50;, score=nan total time=   0.0s\n",
      "[CV 2/5] END  learning_rate=0.001, max_depth=20, n_estimators=50;, score=nan total time=   0.0s\n",
      "[CV 3/5] END  learning_rate=0.001, max_depth=20, n_estimators=50;, score=nan total time=   0.0s\n",
      "[CV 4/5] END  learning_rate=0.001, max_depth=20, n_estimators=50;, score=nan total time=   0.0s\n",
      "[CV 5/5] END  learning_rate=0.001, max_depth=20, n_estimators=50;, score=nan total time=   0.0s\n",
      "[CV 1/5] END  learning_rate=0.001, max_depth=20, n_estimators=100;, score=nan total time=   0.0s\n",
      "[CV 2/5] END  learning_rate=0.001, max_depth=20, n_estimators=100;, score=nan total time=   0.0s\n",
      "[CV 3/5] END  learning_rate=0.001, max_depth=20, n_estimators=100;, score=nan total time=   0.0s\n",
      "[CV 4/5] END  learning_rate=0.001, max_depth=20, n_estimators=100;, score=nan total time=   0.0s\n",
      "[CV 5/5] END  learning_rate=0.001, max_depth=20, n_estimators=100;, score=nan total time=   0.0s\n",
      "[CV 1/5] END  learning_rate=0.001, max_depth=20, n_estimators=200;, score=nan total time=   0.0s\n",
      "[CV 2/5] END  learning_rate=0.001, max_depth=20, n_estimators=200;, score=nan total time=   0.0s\n",
      "[CV 3/5] END  learning_rate=0.001, max_depth=20, n_estimators=200;, score=nan total time=   0.0s\n",
      "[CV 4/5] END  learning_rate=0.001, max_depth=20, n_estimators=200;, score=nan total time=   0.0s\n",
      "[CV 5/5] END  learning_rate=0.001, max_depth=20, n_estimators=200;, score=nan total time=   0.0s\n"
     ]
    },
    {
     "name": "stderr",
     "output_type": "stream",
     "text": [
      "C:\\Users\\argha\\anaconda3\\lib\\site-packages\\sklearn\\model_selection\\_validation.py:372: FitFailedWarning: \n",
      "400 fits failed out of a total of 400.\n",
      "The score on these train-test partitions for these parameters will be set to nan.\n",
      "If these failures are not expected, you can try to debug them by setting error_score='raise'.\n",
      "\n",
      "Below are more details about the failures:\n",
      "--------------------------------------------------------------------------------\n",
      "53 fits failed with the following error:\n",
      "Traceback (most recent call last):\n",
      "  File \"C:\\Users\\argha\\anaconda3\\lib\\site-packages\\sklearn\\model_selection\\_validation.py\", line 680, in _fit_and_score\n",
      "    estimator.fit(X_train, y_train, **fit_params)\n",
      "  File \"C:\\Users\\argha\\anaconda3\\lib\\site-packages\\xgboost\\core.py\", line 620, in inner_f\n",
      "    return func(**kwargs)\n",
      "  File \"C:\\Users\\argha\\anaconda3\\lib\\site-packages\\xgboost\\sklearn.py\", line 1490, in fit\n",
      "    self._Booster = train(\n",
      "  File \"C:\\Users\\argha\\anaconda3\\lib\\site-packages\\xgboost\\core.py\", line 620, in inner_f\n",
      "    return func(**kwargs)\n",
      "  File \"C:\\Users\\argha\\anaconda3\\lib\\site-packages\\xgboost\\training.py\", line 185, in train\n",
      "    bst.update(dtrain, i, obj)\n",
      "  File \"C:\\Users\\argha\\anaconda3\\lib\\site-packages\\xgboost\\core.py\", line 1918, in update\n",
      "    _check_call(_LIB.XGBoosterUpdateOneIter(self.handle,\n",
      "  File \"C:\\Users\\argha\\anaconda3\\lib\\site-packages\\xgboost\\core.py\", line 279, in _check_call\n",
      "    raise XGBoostError(py_str(_LIB.XGBGetLastError()))\n",
      "xgboost.core.XGBoostError: [17:16:33] C:/buildkite-agent/builds/buildkite-windows-cpu-autoscaling-group-i-0fc7796c793e6356f-1/xgboost/xgboost-ci-windows/src/learner.cc:749: Invalid parameter \" learning_rate\" contains whitespace.\n",
      "\n",
      "--------------------------------------------------------------------------------\n",
      "87 fits failed with the following error:\n",
      "Traceback (most recent call last):\n",
      "  File \"C:\\Users\\argha\\anaconda3\\lib\\site-packages\\sklearn\\model_selection\\_validation.py\", line 680, in _fit_and_score\n",
      "    estimator.fit(X_train, y_train, **fit_params)\n",
      "  File \"C:\\Users\\argha\\anaconda3\\lib\\site-packages\\xgboost\\core.py\", line 620, in inner_f\n",
      "    return func(**kwargs)\n",
      "  File \"C:\\Users\\argha\\anaconda3\\lib\\site-packages\\xgboost\\sklearn.py\", line 1490, in fit\n",
      "    self._Booster = train(\n",
      "  File \"C:\\Users\\argha\\anaconda3\\lib\\site-packages\\xgboost\\core.py\", line 620, in inner_f\n",
      "    return func(**kwargs)\n",
      "  File \"C:\\Users\\argha\\anaconda3\\lib\\site-packages\\xgboost\\training.py\", line 185, in train\n",
      "    bst.update(dtrain, i, obj)\n",
      "  File \"C:\\Users\\argha\\anaconda3\\lib\\site-packages\\xgboost\\core.py\", line 1918, in update\n",
      "    _check_call(_LIB.XGBoosterUpdateOneIter(self.handle,\n",
      "  File \"C:\\Users\\argha\\anaconda3\\lib\\site-packages\\xgboost\\core.py\", line 279, in _check_call\n",
      "    raise XGBoostError(py_str(_LIB.XGBGetLastError()))\n",
      "xgboost.core.XGBoostError: [17:16:34] C:/buildkite-agent/builds/buildkite-windows-cpu-autoscaling-group-i-0fc7796c793e6356f-1/xgboost/xgboost-ci-windows/src/learner.cc:749: Invalid parameter \" learning_rate\" contains whitespace.\n",
      "\n",
      "--------------------------------------------------------------------------------\n",
      "68 fits failed with the following error:\n",
      "Traceback (most recent call last):\n",
      "  File \"C:\\Users\\argha\\anaconda3\\lib\\site-packages\\sklearn\\model_selection\\_validation.py\", line 680, in _fit_and_score\n",
      "    estimator.fit(X_train, y_train, **fit_params)\n",
      "  File \"C:\\Users\\argha\\anaconda3\\lib\\site-packages\\xgboost\\core.py\", line 620, in inner_f\n",
      "    return func(**kwargs)\n",
      "  File \"C:\\Users\\argha\\anaconda3\\lib\\site-packages\\xgboost\\sklearn.py\", line 1490, in fit\n",
      "    self._Booster = train(\n",
      "  File \"C:\\Users\\argha\\anaconda3\\lib\\site-packages\\xgboost\\core.py\", line 620, in inner_f\n",
      "    return func(**kwargs)\n",
      "  File \"C:\\Users\\argha\\anaconda3\\lib\\site-packages\\xgboost\\training.py\", line 185, in train\n",
      "    bst.update(dtrain, i, obj)\n",
      "  File \"C:\\Users\\argha\\anaconda3\\lib\\site-packages\\xgboost\\core.py\", line 1918, in update\n",
      "    _check_call(_LIB.XGBoosterUpdateOneIter(self.handle,\n",
      "  File \"C:\\Users\\argha\\anaconda3\\lib\\site-packages\\xgboost\\core.py\", line 279, in _check_call\n",
      "    raise XGBoostError(py_str(_LIB.XGBGetLastError()))\n",
      "xgboost.core.XGBoostError: [17:16:35] C:/buildkite-agent/builds/buildkite-windows-cpu-autoscaling-group-i-0fc7796c793e6356f-1/xgboost/xgboost-ci-windows/src/learner.cc:749: Invalid parameter \" learning_rate\" contains whitespace.\n",
      "\n",
      "--------------------------------------------------------------------------------\n",
      "76 fits failed with the following error:\n",
      "Traceback (most recent call last):\n",
      "  File \"C:\\Users\\argha\\anaconda3\\lib\\site-packages\\sklearn\\model_selection\\_validation.py\", line 680, in _fit_and_score\n",
      "    estimator.fit(X_train, y_train, **fit_params)\n",
      "  File \"C:\\Users\\argha\\anaconda3\\lib\\site-packages\\xgboost\\core.py\", line 620, in inner_f\n",
      "    return func(**kwargs)\n",
      "  File \"C:\\Users\\argha\\anaconda3\\lib\\site-packages\\xgboost\\sklearn.py\", line 1490, in fit\n",
      "    self._Booster = train(\n",
      "  File \"C:\\Users\\argha\\anaconda3\\lib\\site-packages\\xgboost\\core.py\", line 620, in inner_f\n",
      "    return func(**kwargs)\n",
      "  File \"C:\\Users\\argha\\anaconda3\\lib\\site-packages\\xgboost\\training.py\", line 185, in train\n",
      "    bst.update(dtrain, i, obj)\n",
      "  File \"C:\\Users\\argha\\anaconda3\\lib\\site-packages\\xgboost\\core.py\", line 1918, in update\n",
      "    _check_call(_LIB.XGBoosterUpdateOneIter(self.handle,\n",
      "  File \"C:\\Users\\argha\\anaconda3\\lib\\site-packages\\xgboost\\core.py\", line 279, in _check_call\n",
      "    raise XGBoostError(py_str(_LIB.XGBGetLastError()))\n",
      "xgboost.core.XGBoostError: [17:16:36] C:/buildkite-agent/builds/buildkite-windows-cpu-autoscaling-group-i-0fc7796c793e6356f-1/xgboost/xgboost-ci-windows/src/learner.cc:749: Invalid parameter \" learning_rate\" contains whitespace.\n",
      "\n",
      "--------------------------------------------------------------------------------\n",
      "87 fits failed with the following error:\n",
      "Traceback (most recent call last):\n",
      "  File \"C:\\Users\\argha\\anaconda3\\lib\\site-packages\\sklearn\\model_selection\\_validation.py\", line 680, in _fit_and_score\n",
      "    estimator.fit(X_train, y_train, **fit_params)\n",
      "  File \"C:\\Users\\argha\\anaconda3\\lib\\site-packages\\xgboost\\core.py\", line 620, in inner_f\n",
      "    return func(**kwargs)\n",
      "  File \"C:\\Users\\argha\\anaconda3\\lib\\site-packages\\xgboost\\sklearn.py\", line 1490, in fit\n",
      "    self._Booster = train(\n",
      "  File \"C:\\Users\\argha\\anaconda3\\lib\\site-packages\\xgboost\\core.py\", line 620, in inner_f\n",
      "    return func(**kwargs)\n",
      "  File \"C:\\Users\\argha\\anaconda3\\lib\\site-packages\\xgboost\\training.py\", line 185, in train\n",
      "    bst.update(dtrain, i, obj)\n",
      "  File \"C:\\Users\\argha\\anaconda3\\lib\\site-packages\\xgboost\\core.py\", line 1918, in update\n",
      "    _check_call(_LIB.XGBoosterUpdateOneIter(self.handle,\n",
      "  File \"C:\\Users\\argha\\anaconda3\\lib\\site-packages\\xgboost\\core.py\", line 279, in _check_call\n",
      "    raise XGBoostError(py_str(_LIB.XGBGetLastError()))\n",
      "xgboost.core.XGBoostError: [17:16:37] C:/buildkite-agent/builds/buildkite-windows-cpu-autoscaling-group-i-0fc7796c793e6356f-1/xgboost/xgboost-ci-windows/src/learner.cc:749: Invalid parameter \" learning_rate\" contains whitespace.\n",
      "\n",
      "--------------------------------------------------------------------------------\n",
      "29 fits failed with the following error:\n",
      "Traceback (most recent call last):\n",
      "  File \"C:\\Users\\argha\\anaconda3\\lib\\site-packages\\sklearn\\model_selection\\_validation.py\", line 680, in _fit_and_score\n",
      "    estimator.fit(X_train, y_train, **fit_params)\n",
      "  File \"C:\\Users\\argha\\anaconda3\\lib\\site-packages\\xgboost\\core.py\", line 620, in inner_f\n",
      "    return func(**kwargs)\n",
      "  File \"C:\\Users\\argha\\anaconda3\\lib\\site-packages\\xgboost\\sklearn.py\", line 1490, in fit\n",
      "    self._Booster = train(\n",
      "  File \"C:\\Users\\argha\\anaconda3\\lib\\site-packages\\xgboost\\core.py\", line 620, in inner_f\n",
      "    return func(**kwargs)\n",
      "  File \"C:\\Users\\argha\\anaconda3\\lib\\site-packages\\xgboost\\training.py\", line 185, in train\n",
      "    bst.update(dtrain, i, obj)\n",
      "  File \"C:\\Users\\argha\\anaconda3\\lib\\site-packages\\xgboost\\core.py\", line 1918, in update\n",
      "    _check_call(_LIB.XGBoosterUpdateOneIter(self.handle,\n",
      "  File \"C:\\Users\\argha\\anaconda3\\lib\\site-packages\\xgboost\\core.py\", line 279, in _check_call\n",
      "    raise XGBoostError(py_str(_LIB.XGBGetLastError()))\n",
      "xgboost.core.XGBoostError: [17:16:38] C:/buildkite-agent/builds/buildkite-windows-cpu-autoscaling-group-i-0fc7796c793e6356f-1/xgboost/xgboost-ci-windows/src/learner.cc:749: Invalid parameter \" learning_rate\" contains whitespace.\n",
      "\n",
      "  warnings.warn(some_fits_failed_message, FitFailedWarning)\n",
      "C:\\Users\\argha\\anaconda3\\lib\\site-packages\\sklearn\\model_selection\\_search.py:969: UserWarning: One or more of the test scores are non-finite: [nan nan nan nan nan nan nan nan nan nan nan nan nan nan nan nan nan nan\n",
      " nan nan nan nan nan nan nan nan nan nan nan nan nan nan nan nan nan nan\n",
      " nan nan nan nan nan nan nan nan nan nan nan nan nan nan nan nan nan nan\n",
      " nan nan nan nan nan nan nan nan nan nan nan nan nan nan nan nan nan nan\n",
      " nan nan nan nan nan nan nan nan]\n",
      "  warnings.warn(\n"
     ]
    },
    {
     "ename": "XGBoostError",
     "evalue": "[17:16:38] C:/buildkite-agent/builds/buildkite-windows-cpu-autoscaling-group-i-0fc7796c793e6356f-1/xgboost/xgboost-ci-windows/src/learner.cc:749: Invalid parameter \" learning_rate\" contains whitespace.",
     "output_type": "error",
     "traceback": [
      "\u001b[1;31m---------------------------------------------------------------------------\u001b[0m",
      "\u001b[1;31mXGBoostError\u001b[0m                              Traceback (most recent call last)",
      "Input \u001b[1;32mIn [22]\u001b[0m, in \u001b[0;36m<cell line: 1>\u001b[1;34m()\u001b[0m\n\u001b[1;32m----> 1\u001b[0m \u001b[43mgrid\u001b[49m\u001b[38;5;241;43m.\u001b[39;49m\u001b[43mfit\u001b[49m\u001b[43m(\u001b[49m\u001b[43mtrain_x\u001b[49m\u001b[43m,\u001b[49m\u001b[43mtrain_y\u001b[49m\u001b[43m)\u001b[49m\n",
      "File \u001b[1;32m~\\anaconda3\\lib\\site-packages\\sklearn\\model_selection\\_search.py:926\u001b[0m, in \u001b[0;36mBaseSearchCV.fit\u001b[1;34m(self, X, y, groups, **fit_params)\u001b[0m\n\u001b[0;32m    924\u001b[0m refit_start_time \u001b[38;5;241m=\u001b[39m time\u001b[38;5;241m.\u001b[39mtime()\n\u001b[0;32m    925\u001b[0m \u001b[38;5;28;01mif\u001b[39;00m y \u001b[38;5;129;01mis\u001b[39;00m \u001b[38;5;129;01mnot\u001b[39;00m \u001b[38;5;28;01mNone\u001b[39;00m:\n\u001b[1;32m--> 926\u001b[0m     \u001b[38;5;28mself\u001b[39m\u001b[38;5;241m.\u001b[39mbest_estimator_\u001b[38;5;241m.\u001b[39mfit(X, y, \u001b[38;5;241m*\u001b[39m\u001b[38;5;241m*\u001b[39mfit_params)\n\u001b[0;32m    927\u001b[0m \u001b[38;5;28;01melse\u001b[39;00m:\n\u001b[0;32m    928\u001b[0m     \u001b[38;5;28mself\u001b[39m\u001b[38;5;241m.\u001b[39mbest_estimator_\u001b[38;5;241m.\u001b[39mfit(X, \u001b[38;5;241m*\u001b[39m\u001b[38;5;241m*\u001b[39mfit_params)\n",
      "File \u001b[1;32m~\\anaconda3\\lib\\site-packages\\xgboost\\core.py:620\u001b[0m, in \u001b[0;36mrequire_keyword_args.<locals>.throw_if.<locals>.inner_f\u001b[1;34m(*args, **kwargs)\u001b[0m\n\u001b[0;32m    618\u001b[0m \u001b[38;5;28;01mfor\u001b[39;00m k, arg \u001b[38;5;129;01min\u001b[39;00m \u001b[38;5;28mzip\u001b[39m(sig\u001b[38;5;241m.\u001b[39mparameters, args):\n\u001b[0;32m    619\u001b[0m     kwargs[k] \u001b[38;5;241m=\u001b[39m arg\n\u001b[1;32m--> 620\u001b[0m \u001b[38;5;28;01mreturn\u001b[39;00m func(\u001b[38;5;241m*\u001b[39m\u001b[38;5;241m*\u001b[39mkwargs)\n",
      "File \u001b[1;32m~\\anaconda3\\lib\\site-packages\\xgboost\\sklearn.py:1490\u001b[0m, in \u001b[0;36mXGBClassifier.fit\u001b[1;34m(self, X, y, sample_weight, base_margin, eval_set, eval_metric, early_stopping_rounds, verbose, xgb_model, sample_weight_eval_set, base_margin_eval_set, feature_weights, callbacks)\u001b[0m\n\u001b[0;32m   1462\u001b[0m (\n\u001b[0;32m   1463\u001b[0m     model,\n\u001b[0;32m   1464\u001b[0m     metric,\n\u001b[1;32m   (...)\u001b[0m\n\u001b[0;32m   1469\u001b[0m     xgb_model, eval_metric, params, early_stopping_rounds, callbacks\n\u001b[0;32m   1470\u001b[0m )\n\u001b[0;32m   1471\u001b[0m train_dmatrix, evals \u001b[38;5;241m=\u001b[39m _wrap_evaluation_matrices(\n\u001b[0;32m   1472\u001b[0m     missing\u001b[38;5;241m=\u001b[39m\u001b[38;5;28mself\u001b[39m\u001b[38;5;241m.\u001b[39mmissing,\n\u001b[0;32m   1473\u001b[0m     X\u001b[38;5;241m=\u001b[39mX,\n\u001b[1;32m   (...)\u001b[0m\n\u001b[0;32m   1487\u001b[0m     feature_types\u001b[38;5;241m=\u001b[39m\u001b[38;5;28mself\u001b[39m\u001b[38;5;241m.\u001b[39mfeature_types,\n\u001b[0;32m   1488\u001b[0m )\n\u001b[1;32m-> 1490\u001b[0m \u001b[38;5;28mself\u001b[39m\u001b[38;5;241m.\u001b[39m_Booster \u001b[38;5;241m=\u001b[39m \u001b[43mtrain\u001b[49m\u001b[43m(\u001b[49m\n\u001b[0;32m   1491\u001b[0m \u001b[43m    \u001b[49m\u001b[43mparams\u001b[49m\u001b[43m,\u001b[49m\n\u001b[0;32m   1492\u001b[0m \u001b[43m    \u001b[49m\u001b[43mtrain_dmatrix\u001b[49m\u001b[43m,\u001b[49m\n\u001b[0;32m   1493\u001b[0m \u001b[43m    \u001b[49m\u001b[38;5;28;43mself\u001b[39;49m\u001b[38;5;241;43m.\u001b[39;49m\u001b[43mget_num_boosting_rounds\u001b[49m\u001b[43m(\u001b[49m\u001b[43m)\u001b[49m\u001b[43m,\u001b[49m\n\u001b[0;32m   1494\u001b[0m \u001b[43m    \u001b[49m\u001b[43mevals\u001b[49m\u001b[38;5;241;43m=\u001b[39;49m\u001b[43mevals\u001b[49m\u001b[43m,\u001b[49m\n\u001b[0;32m   1495\u001b[0m \u001b[43m    \u001b[49m\u001b[43mearly_stopping_rounds\u001b[49m\u001b[38;5;241;43m=\u001b[39;49m\u001b[43mearly_stopping_rounds\u001b[49m\u001b[43m,\u001b[49m\n\u001b[0;32m   1496\u001b[0m \u001b[43m    \u001b[49m\u001b[43mevals_result\u001b[49m\u001b[38;5;241;43m=\u001b[39;49m\u001b[43mevals_result\u001b[49m\u001b[43m,\u001b[49m\n\u001b[0;32m   1497\u001b[0m \u001b[43m    \u001b[49m\u001b[43mobj\u001b[49m\u001b[38;5;241;43m=\u001b[39;49m\u001b[43mobj\u001b[49m\u001b[43m,\u001b[49m\n\u001b[0;32m   1498\u001b[0m \u001b[43m    \u001b[49m\u001b[43mcustom_metric\u001b[49m\u001b[38;5;241;43m=\u001b[39;49m\u001b[43mmetric\u001b[49m\u001b[43m,\u001b[49m\n\u001b[0;32m   1499\u001b[0m \u001b[43m    \u001b[49m\u001b[43mverbose_eval\u001b[49m\u001b[38;5;241;43m=\u001b[39;49m\u001b[43mverbose\u001b[49m\u001b[43m,\u001b[49m\n\u001b[0;32m   1500\u001b[0m \u001b[43m    \u001b[49m\u001b[43mxgb_model\u001b[49m\u001b[38;5;241;43m=\u001b[39;49m\u001b[43mmodel\u001b[49m\u001b[43m,\u001b[49m\n\u001b[0;32m   1501\u001b[0m \u001b[43m    \u001b[49m\u001b[43mcallbacks\u001b[49m\u001b[38;5;241;43m=\u001b[39;49m\u001b[43mcallbacks\u001b[49m\u001b[43m,\u001b[49m\n\u001b[0;32m   1502\u001b[0m \u001b[43m\u001b[49m\u001b[43m)\u001b[49m\n\u001b[0;32m   1504\u001b[0m \u001b[38;5;28;01mif\u001b[39;00m \u001b[38;5;129;01mnot\u001b[39;00m callable(\u001b[38;5;28mself\u001b[39m\u001b[38;5;241m.\u001b[39mobjective):\n\u001b[0;32m   1505\u001b[0m     \u001b[38;5;28mself\u001b[39m\u001b[38;5;241m.\u001b[39mobjective \u001b[38;5;241m=\u001b[39m params[\u001b[38;5;124m\"\u001b[39m\u001b[38;5;124mobjective\u001b[39m\u001b[38;5;124m\"\u001b[39m]\n",
      "File \u001b[1;32m~\\anaconda3\\lib\\site-packages\\xgboost\\core.py:620\u001b[0m, in \u001b[0;36mrequire_keyword_args.<locals>.throw_if.<locals>.inner_f\u001b[1;34m(*args, **kwargs)\u001b[0m\n\u001b[0;32m    618\u001b[0m \u001b[38;5;28;01mfor\u001b[39;00m k, arg \u001b[38;5;129;01min\u001b[39;00m \u001b[38;5;28mzip\u001b[39m(sig\u001b[38;5;241m.\u001b[39mparameters, args):\n\u001b[0;32m    619\u001b[0m     kwargs[k] \u001b[38;5;241m=\u001b[39m arg\n\u001b[1;32m--> 620\u001b[0m \u001b[38;5;28;01mreturn\u001b[39;00m func(\u001b[38;5;241m*\u001b[39m\u001b[38;5;241m*\u001b[39mkwargs)\n",
      "File \u001b[1;32m~\\anaconda3\\lib\\site-packages\\xgboost\\training.py:185\u001b[0m, in \u001b[0;36mtrain\u001b[1;34m(params, dtrain, num_boost_round, evals, obj, feval, maximize, early_stopping_rounds, evals_result, verbose_eval, xgb_model, callbacks, custom_metric)\u001b[0m\n\u001b[0;32m    183\u001b[0m \u001b[38;5;28;01mif\u001b[39;00m cb_container\u001b[38;5;241m.\u001b[39mbefore_iteration(bst, i, dtrain, evals):\n\u001b[0;32m    184\u001b[0m     \u001b[38;5;28;01mbreak\u001b[39;00m\n\u001b[1;32m--> 185\u001b[0m \u001b[43mbst\u001b[49m\u001b[38;5;241;43m.\u001b[39;49m\u001b[43mupdate\u001b[49m\u001b[43m(\u001b[49m\u001b[43mdtrain\u001b[49m\u001b[43m,\u001b[49m\u001b[43m \u001b[49m\u001b[43mi\u001b[49m\u001b[43m,\u001b[49m\u001b[43m \u001b[49m\u001b[43mobj\u001b[49m\u001b[43m)\u001b[49m\n\u001b[0;32m    186\u001b[0m \u001b[38;5;28;01mif\u001b[39;00m cb_container\u001b[38;5;241m.\u001b[39mafter_iteration(bst, i, dtrain, evals):\n\u001b[0;32m    187\u001b[0m     \u001b[38;5;28;01mbreak\u001b[39;00m\n",
      "File \u001b[1;32m~\\anaconda3\\lib\\site-packages\\xgboost\\core.py:1918\u001b[0m, in \u001b[0;36mBooster.update\u001b[1;34m(self, dtrain, iteration, fobj)\u001b[0m\n\u001b[0;32m   1915\u001b[0m \u001b[38;5;28mself\u001b[39m\u001b[38;5;241m.\u001b[39m_validate_dmatrix_features(dtrain)\n\u001b[0;32m   1917\u001b[0m \u001b[38;5;28;01mif\u001b[39;00m fobj \u001b[38;5;129;01mis\u001b[39;00m \u001b[38;5;28;01mNone\u001b[39;00m:\n\u001b[1;32m-> 1918\u001b[0m     \u001b[43m_check_call\u001b[49m\u001b[43m(\u001b[49m\u001b[43m_LIB\u001b[49m\u001b[38;5;241;43m.\u001b[39;49m\u001b[43mXGBoosterUpdateOneIter\u001b[49m\u001b[43m(\u001b[49m\u001b[38;5;28;43mself\u001b[39;49m\u001b[38;5;241;43m.\u001b[39;49m\u001b[43mhandle\u001b[49m\u001b[43m,\u001b[49m\n\u001b[0;32m   1919\u001b[0m \u001b[43m                                            \u001b[49m\u001b[43mctypes\u001b[49m\u001b[38;5;241;43m.\u001b[39;49m\u001b[43mc_int\u001b[49m\u001b[43m(\u001b[49m\u001b[43miteration\u001b[49m\u001b[43m)\u001b[49m\u001b[43m,\u001b[49m\n\u001b[0;32m   1920\u001b[0m \u001b[43m                                            \u001b[49m\u001b[43mdtrain\u001b[49m\u001b[38;5;241;43m.\u001b[39;49m\u001b[43mhandle\u001b[49m\u001b[43m)\u001b[49m\u001b[43m)\u001b[49m\n\u001b[0;32m   1921\u001b[0m \u001b[38;5;28;01melse\u001b[39;00m:\n\u001b[0;32m   1922\u001b[0m     pred \u001b[38;5;241m=\u001b[39m \u001b[38;5;28mself\u001b[39m\u001b[38;5;241m.\u001b[39mpredict(dtrain, output_margin\u001b[38;5;241m=\u001b[39m\u001b[38;5;28;01mTrue\u001b[39;00m, training\u001b[38;5;241m=\u001b[39m\u001b[38;5;28;01mTrue\u001b[39;00m)\n",
      "File \u001b[1;32m~\\anaconda3\\lib\\site-packages\\xgboost\\core.py:279\u001b[0m, in \u001b[0;36m_check_call\u001b[1;34m(ret)\u001b[0m\n\u001b[0;32m    268\u001b[0m \u001b[38;5;124;03m\"\"\"Check the return value of C API call\u001b[39;00m\n\u001b[0;32m    269\u001b[0m \n\u001b[0;32m    270\u001b[0m \u001b[38;5;124;03mThis function will raise exception when error occurs.\u001b[39;00m\n\u001b[1;32m   (...)\u001b[0m\n\u001b[0;32m    276\u001b[0m \u001b[38;5;124;03m    return value from API calls\u001b[39;00m\n\u001b[0;32m    277\u001b[0m \u001b[38;5;124;03m\"\"\"\u001b[39;00m\n\u001b[0;32m    278\u001b[0m \u001b[38;5;28;01mif\u001b[39;00m ret \u001b[38;5;241m!=\u001b[39m \u001b[38;5;241m0\u001b[39m:\n\u001b[1;32m--> 279\u001b[0m     \u001b[38;5;28;01mraise\u001b[39;00m XGBoostError(py_str(_LIB\u001b[38;5;241m.\u001b[39mXGBGetLastError()))\n",
      "\u001b[1;31mXGBoostError\u001b[0m: [17:16:38] C:/buildkite-agent/builds/buildkite-windows-cpu-autoscaling-group-i-0fc7796c793e6356f-1/xgboost/xgboost-ci-windows/src/learner.cc:749: Invalid parameter \" learning_rate\" contains whitespace."
     ]
    }
   ],
   "source": [
    "grid.fit(train_x,train_y)"
   ]
  },
  {
   "cell_type": "code",
   "execution_count": 23,
   "metadata": {},
   "outputs": [
    {
     "data": {
      "text/plain": [
       "{' learning_rate': 1, 'max_depth': 3, 'n_estimators': 10}"
      ]
     },
     "execution_count": 23,
     "metadata": {},
     "output_type": "execute_result"
    }
   ],
   "source": [
    "# To  find the parameters givingmaximum accuracy\n",
    "grid.best_params_"
   ]
  },
  {
   "cell_type": "code",
   "execution_count": 24,
   "metadata": {},
   "outputs": [
    {
     "data": {
      "text/plain": [
       "XGBClassifier(base_score=None, booster=None, callbacks=None,\n",
       "              colsample_bylevel=None, colsample_bynode=None,\n",
       "              colsample_bytree=None, early_stopping_rounds=None,\n",
       "              enable_categorical=False, eval_metric=None, feature_types=None,\n",
       "              gamma=None, gpu_id=None, grow_policy=None, importance_type=None,\n",
       "              interaction_constraints=None, learning_rate=1, max_bin=None,\n",
       "              max_cat_threshold=None, max_cat_to_onehot=None,\n",
       "              max_delta_step=None, max_depth=3, max_leaves=None,\n",
       "              min_child_weight=None, missing=nan, monotone_constraints=None,\n",
       "              n_estimators=10, n_jobs=None, num_parallel_tree=None,\n",
       "              predictor=None, random_state=None, ...)"
      ]
     },
     "execution_count": 24,
     "metadata": {},
     "output_type": "execute_result"
    }
   ],
   "source": [
    "# Create new model using the same parameters\n",
    "new_model=XGBClassifier(learning_rate= 1, max_depth= 3, n_estimators= 10)\n",
    "new_model.fit(train_x, train_y)"
   ]
  },
  {
   "cell_type": "code",
   "execution_count": 25,
   "metadata": {},
   "outputs": [
    {
     "data": {
      "text/plain": [
       "0.7532467532467533"
      ]
     },
     "execution_count": 25,
     "metadata": {},
     "output_type": "execute_result"
    }
   ],
   "source": [
    "y_pred_new = new_model.predict(test_x)\n",
    "predictions_new = [round(value) for value in y_pred_new]\n",
    "accuracy_new = accuracy_score(test_y,predictions_new)\n",
    "accuracy_new"
   ]
  },
  {
   "cell_type": "markdown",
   "metadata": {},
   "source": [
    "As we have increased the accuracy of the model, we'll save this model"
   ]
  },
  {
   "cell_type": "code",
   "execution_count": 26,
   "metadata": {},
   "outputs": [],
   "source": [
    "filename = 'xgboost_model.pickle'\n",
    "pickle.dump(new_model, open(filename, 'wb'))\n",
    "\n",
    "loaded_model = pickle.load(open(filename, 'rb'))"
   ]
  },
  {
   "cell_type": "code",
   "execution_count": 27,
   "metadata": {},
   "outputs": [],
   "source": [
    "# we'll save the scaler object as well for prediction\n",
    "filename_scaler = 'scaler_model.pickle'\n",
    "pickle.dump(scaler, open(filename_scaler, 'wb'))\n",
    "\n",
    "scaler_model = pickle.load(open(filename_scaler, 'rb'))"
   ]
  },
  {
   "cell_type": "code",
   "execution_count": 28,
   "metadata": {},
   "outputs": [
    {
     "name": "stdout",
     "output_type": "stream",
     "text": [
      "This data belongs to class : 1\n"
     ]
    },
    {
     "name": "stderr",
     "output_type": "stream",
     "text": [
      "C:\\Users\\argha\\anaconda3\\lib\\site-packages\\sklearn\\base.py:450: UserWarning: X does not have valid feature names, but StandardScaler was fitted with feature names\n",
      "  warnings.warn(\n"
     ]
    }
   ],
   "source": [
    "# Trying a random prediction\n",
    "d=scaler_model.transform([[6,148,72,35,80,33.6,0.627,50]])\n",
    "pred=loaded_model.predict(d)\n",
    "print('This data belongs to class :',pred[0])"
   ]
  },
  {
   "cell_type": "markdown",
   "metadata": {},
   "source": [
    "**The main advantages:**\n",
    "- out of the box feature of appropriate bias-variance trade-off,\n",
    "- great computation speed as it utilises parallel computing and cache optimization,\n",
    "- uses hardware optimization,\n",
    "- works well even if the features are correlated\n",
    "- robust even if there is noise for classification problem\n",
    "- the facility of early stopping\n",
    "- the package is evolving, i.e., new features are being added."
   ]
  },
  {
   "cell_type": "code",
   "execution_count": null,
   "metadata": {},
   "outputs": [],
   "source": []
  }
 ],
 "metadata": {
  "kernelspec": {
   "display_name": "Python 3 (ipykernel)",
   "language": "python",
   "name": "python3"
  },
  "language_info": {
   "codemirror_mode": {
    "name": "ipython",
    "version": 3
   },
   "file_extension": ".py",
   "mimetype": "text/x-python",
   "name": "python",
   "nbconvert_exporter": "python",
   "pygments_lexer": "ipython3",
   "version": "3.9.12"
  }
 },
 "nbformat": 4,
 "nbformat_minor": 2
}
